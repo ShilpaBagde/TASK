{
 "cells": [
  {
   "cell_type": "markdown",
   "metadata": {},
   "source": [
    "# Object Oriented Programming Challenge\n",
    "\n",
    "### 1. \n",
    "For this challenge, create a bank account class that has two attributes:\n",
    "\n",
    "* owner\n",
    "* balance\n",
    "\n",
    "and two methods:\n",
    "\n",
    "* deposit\n",
    "* withdraw\n",
    "\n",
    "As an added requirement, withdrawals may not exceed the available balance.\n",
    "\n",
    "Instantiate your class, make several deposits and withdrawals, and test to make sure the account can't be overdrawn."
   ]
  },
  {
   "cell_type": "code",
   "execution_count": 13,
   "metadata": {},
   "outputs": [],
   "source": [
    "class Account:\n",
    "    pass"
   ]
  },
  {
   "cell_type": "code",
   "execution_count": 14,
   "metadata": {},
   "outputs": [],
   "source": [
    "# 1. Instantiate the class\n",
    "c = Account()"
   ]
  },
  {
   "cell_type": "code",
   "execution_count": 15,
   "metadata": {},
   "outputs": [
    {
     "name": "stdout",
     "output_type": "stream",
     "text": [
      "<__main__.Account object at 0x00000191A6CCD608>\n"
     ]
    }
   ],
   "source": [
    "# 2. Print the object\n",
    "print(c)"
   ]
  },
  {
   "cell_type": "code",
   "execution_count": 50,
   "metadata": {},
   "outputs": [],
   "source": [
    "# 2. Show the account owner attribute"
   ]
  },
  {
   "cell_type": "code",
   "execution_count": 45,
   "metadata": {},
   "outputs": [],
   "source": [
    "# 4. Show the account balance attribute"
   ]
  },
  {
   "cell_type": "code",
   "execution_count": 51,
   "metadata": {},
   "outputs": [],
   "source": [
    "# 5. Make a series of deposits and withdrawals"
   ]
  },
  {
   "cell_type": "code",
   "execution_count": 59,
   "metadata": {},
   "outputs": [],
   "source": [
    "# 6. Make a withdrawal that exceeds the available balance"
   ]
  },
  {
   "cell_type": "code",
   "execution_count": 2,
   "metadata": {},
   "outputs": [],
   "source": [
    "class Account:\n",
    "\n",
    "    def __init__ (self, owner, balance):\n",
    "        self.owner = owner\n",
    "        self.balance = balance\n",
    "        \n",
    "    def deposit(self, amount):\n",
    "        self.balance += amount\n",
    "        print(self.balance)\n",
    "        \n",
    "    \n",
    "    def withdrawl(self, amount):\n",
    "        if self.balance - amount > 0:\n",
    "            self.balance -= amount\n",
    "            print(self.balance)\n",
    "        else:\n",
    "            print('exceed withdrawal amount limit')"
   ]
  },
  {
   "cell_type": "code",
   "execution_count": 2,
   "metadata": {},
   "outputs": [
    {
     "name": "stdout",
     "output_type": "stream",
     "text": [
      "<__main__.Account object at 0x000001E33828A688>\n"
     ]
    },
    {
     "data": {
      "text/plain": [
       "1000"
      ]
     },
     "execution_count": 2,
     "metadata": {},
     "output_type": "execute_result"
    }
   ],
   "source": [
    "a = Account(\"Shilpa\",1000)\n",
    "print(a)\n",
    "a.owner\n",
    "a.balance"
   ]
  },
  {
   "cell_type": "code",
   "execution_count": 92,
   "metadata": {},
   "outputs": [
    {
     "name": "stdout",
     "output_type": "stream",
     "text": [
      "2500\n"
     ]
    }
   ],
   "source": [
    "a.deposit(1500)"
   ]
  },
  {
   "cell_type": "code",
   "execution_count": 93,
   "metadata": {},
   "outputs": [
    {
     "data": {
      "text/plain": [
       "2500"
      ]
     },
     "execution_count": 93,
     "metadata": {},
     "output_type": "execute_result"
    }
   ],
   "source": [
    "a.balance"
   ]
  },
  {
   "cell_type": "code",
   "execution_count": 95,
   "metadata": {},
   "outputs": [
    {
     "name": "stdout",
     "output_type": "stream",
     "text": [
      "exceed withdrawal amount limit\n"
     ]
    }
   ],
   "source": [
    "a.withdrawl(3000)"
   ]
  },
  {
   "cell_type": "code",
   "execution_count": null,
   "metadata": {},
   "outputs": [],
   "source": []
  },
  {
   "cell_type": "markdown",
   "metadata": {},
   "source": [
    "### 2\n",
    "Create a Time class and initialize it with hours and minutes.\n",
    "1. Make a method addTime which should take two time object and add them. E.g.- (2 hour and 50 min)+(1 hr and 20 min) is (4 hr and 10 min)\n",
    "2. Make a method displayTime which should print the time.\n",
    "3. Make a method DisplayMinute which should display the total minutes in the Time. E.g.- (1 hr 2 min) should display 62 minute. "
   ]
  },
  {
   "cell_type": "code",
   "execution_count": 20,
   "metadata": {},
   "outputs": [],
   "source": [
    "class Time():\n",
    "    pass"
   ]
  },
  {
   "cell_type": "code",
   "execution_count": 21,
   "metadata": {},
   "outputs": [
    {
     "name": "stdout",
     "output_type": "stream",
     "text": [
      "<__main__.Time object at 0x000001C9B714AD08>\n"
     ]
    }
   ],
   "source": [
    "t = Time()\n",
    "print(t)"
   ]
  },
  {
   "cell_type": "code",
   "execution_count": 98,
   "metadata": {},
   "outputs": [
    {
     "name": "stdout",
     "output_type": "stream",
     "text": [
      "Time is 4 hours and 10 minutes\n",
      "250 minutes\n"
     ]
    }
   ],
   "source": [
    "class Time():\n",
    "    def __init__(self, hours, minutes):\n",
    "        self.hours = hours\n",
    "        self.minutes = minutes\n",
    "    \n",
    "    def addTime(T1, T2):\n",
    "        T3 = Time(0,0)\n",
    "        T3.hours = T1.hours + T2.hours\n",
    "        T3.minutes = T1.minutes + T2.minutes\n",
    "        \n",
    "        while T3.minutes >= 60:\n",
    "            T3.hours += 1\n",
    "            T3.minutes -= 60\n",
    "               \n",
    "        return T3\n",
    "\n",
    "    \n",
    "    def displayTime(self):\n",
    "        print(\"Time is\",self.hours,\"hours and\",self.minutes,\"minutes\")\n",
    "        \n",
    "    def DisplayMinute(self):\n",
    "        print((self.hours*60)+self.minutes, \"minutes\")\n",
    "        \n",
    "\n",
    "a = Time(2,50)\n",
    "b = Time(1,20)\n",
    "c = Time.addTime(a,b)\n",
    "c.displayTime()\n",
    "c.DisplayMinute()"
   ]
  },
  {
   "cell_type": "markdown",
   "metadata": {},
   "source": [
    "### 3\n",
    "#### Create ATM class which inherites Account class in 1st programm \n",
    "\n",
    "Some of the functions that one can complete at an ATM are below:\n",
    "\n",
    "    1. Input user pin for authentication\n",
    "    2. Print Menu\n",
    "    3. Check account balance\n",
    "    4. Deposit funds\n",
    "    5. Withdraw funds\n",
    "    6. Create random generated transaction id after each transaction(Hint: import random)\n",
    "\n"
   ]
  },
  {
   "cell_type": "code",
   "execution_count": 3,
   "metadata": {},
   "outputs": [],
   "source": [
    "# perform all transactions\n",
    "import random\n",
    "class ATM(Account):\n",
    "    def __init__ (self, owner, balance, pin):\n",
    "        Account.__init__ (self, owner, balance)\n",
    "        self.pin = pin\n",
    "            \n",
    "    def transaction(self):\n",
    "        xyz = int(input(\"Enter the pin \"))\n",
    "        \n",
    "        if xyz<9999 and xyz>999:\n",
    "            print(\"pin matched\")\n",
    "        else:\n",
    "            print(\"Wrong pin\")\n",
    "        \n",
    "        if self.pin == xyz: \n",
    "            print(\" 1.check_balance\\n 2.deposit\\n 3.withdrawl\\n 4.quit\")\n",
    "            while 1:\n",
    "                n = int(input(\"Select the option\"))\n",
    "                if n==1:\n",
    "                    print(\"Your Account Balance is\",self.balance)\n",
    "\n",
    "                if n==2:\n",
    "                    amount = int(input(\"Enter Amount: \"))\n",
    "                    self.deposit(amount)\n",
    "                    print(\"Transaction id:\",random.randint(999999,1000000))\n",
    "        \n",
    "\n",
    "                if n==3:\n",
    "                    amount = int(input(\"Enter Amount: \"))\n",
    "                    self.withdrawl(amount)\n",
    "                    print(\"Transaction id:\",random.randint(100000,1000000))\n",
    "\n",
    "                    \n",
    "                if n==4:\n",
    "                    break\n",
    "            print(\"Visit Again\")\n",
    "            \n"
   ]
  },
  {
   "cell_type": "code",
   "execution_count": 4,
   "metadata": {},
   "outputs": [
    {
     "name": "stdout",
     "output_type": "stream",
     "text": [
      "1234\n"
     ]
    }
   ],
   "source": [
    "pin11 = int(input())"
   ]
  },
  {
   "cell_type": "code",
   "execution_count": 5,
   "metadata": {},
   "outputs": [],
   "source": [
    "a = ATM('R', 1000,pin11)"
   ]
  },
  {
   "cell_type": "code",
   "execution_count": 6,
   "metadata": {},
   "outputs": [
    {
     "name": "stdout",
     "output_type": "stream",
     "text": [
      "Enter the pin 1234\n",
      "pin matched\n",
      " 1.check_balance\n",
      " 2.deposit\n",
      " 3.withdrawl\n",
      " 4.quit\n",
      "Select the option1\n",
      "Your Account Balance is 1000\n",
      "Select the option2\n",
      "Enter Amount: 5000\n",
      "6000\n",
      "Transaction id: 999999\n",
      "Select the option3\n",
      "Enter Amount: 4000\n",
      "2000\n",
      "Transaction id: 724904\n",
      "Select the option3\n",
      "Enter Amount: 3000\n",
      "exceed withdrawal amount limit\n",
      "Transaction id: 465044\n",
      "Select the option4\n",
      "Visit Again\n"
     ]
    }
   ],
   "source": [
    "a.transaction()"
   ]
  },
  {
   "cell_type": "code",
   "execution_count": null,
   "metadata": {},
   "outputs": [],
   "source": []
  }
 ],
 "metadata": {
  "kernelspec": {
   "display_name": "Python 3",
   "language": "python",
   "name": "python3"
  },
  "language_info": {
   "codemirror_mode": {
    "name": "ipython",
    "version": 3
   },
   "file_extension": ".py",
   "mimetype": "text/x-python",
   "name": "python",
   "nbconvert_exporter": "python",
   "pygments_lexer": "ipython3",
   "version": "3.7.4"
  }
 },
 "nbformat": 4,
 "nbformat_minor": 2
}
