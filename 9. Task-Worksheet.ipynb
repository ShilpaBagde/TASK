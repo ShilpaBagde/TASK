{
 "cells": [
  {
   "cell_type": "markdown",
   "metadata": {},
   "source": [
    "# Condition  Statements"
   ]
  },
  {
   "cell_type": "markdown",
   "metadata": {},
   "source": [
    "### 1.WAP to check if given character is a vowel or not."
   ]
  },
  {
   "cell_type": "code",
   "execution_count": 21,
   "metadata": {},
   "outputs": [
    {
     "name": "stdout",
     "output_type": "stream",
     "text": [
      "Enter a character: i\n",
      "Given Character is Vowel\n"
     ]
    }
   ],
   "source": [
    "str = input(\"Enter a character: \")\n",
    "L = ['a','e','i','o','u']\n",
    "if str in L:\n",
    "    print(\"Given Character is Vowel\")\n",
    "else:\n",
    "    print(\"Given Character is not Vowel\")"
   ]
  },
  {
   "cell_type": "markdown",
   "metadata": {},
   "source": [
    "### 2.WAP to check if number is less than 5 and if yes print its square."
   ]
  },
  {
   "cell_type": "code",
   "execution_count": 24,
   "metadata": {},
   "outputs": [
    {
     "name": "stdout",
     "output_type": "stream",
     "text": [
      "Enter a Number: 5\n",
      "Square: 25\n"
     ]
    }
   ],
   "source": [
    "x = int(input(\"Enter a Number: \"))\n",
    "if x<=5:\n",
    "    print(\"Square:\",x*x)\n",
    "else:\n",
    "    print(\"The number is greater than 5\")"
   ]
  },
  {
   "cell_type": "markdown",
   "metadata": {},
   "source": [
    "### 3.WAP to check if the number is divisible by 10."
   ]
  },
  {
   "cell_type": "code",
   "execution_count": 2,
   "metadata": {},
   "outputs": [
    {
     "name": "stdout",
     "output_type": "stream",
     "text": [
      "Enter number: 40\n",
      "40 is divisible by 10\n"
     ]
    }
   ],
   "source": [
    "num = int(input(\"Enter number: \"))\n",
    "if num % 10 == 0:\n",
    "    print(num,\"is divisible by 10\")\n",
    "else:\n",
    "    print(num,\"is not divisible by 10\")"
   ]
  },
  {
   "cell_type": "markdown",
   "metadata": {},
   "source": [
    "### 4.WAP to check if the given character is upper case or lower case. (Hint: Use str.islower())."
   ]
  },
  {
   "cell_type": "code",
   "execution_count": 5,
   "metadata": {},
   "outputs": [
    {
     "name": "stdout",
     "output_type": "stream",
     "text": [
      "Enter a string: r\n",
      "The given character r is lower case\n"
     ]
    }
   ],
   "source": [
    "str = input(\"Enter a string: \")\n",
    "if str.islower()==True:\n",
    "    print(\"The given character\",str,\"is lower case\")\n",
    "else:\n",
    "    print(\"The given character\",str,\"is upper case\")"
   ]
  },
  {
   "cell_type": "markdown",
   "metadata": {},
   "source": [
    "### 5.WAP to check if the given character is digit or not. (Hint: Use str.isdigit())."
   ]
  },
  {
   "cell_type": "code",
   "execution_count": 9,
   "metadata": {},
   "outputs": [
    {
     "name": "stdout",
     "output_type": "stream",
     "text": [
      "Enter the Character: 76fd\n",
      "The given character 76fd is not a digit\n"
     ]
    }
   ],
   "source": [
    "str = input(\"Enter the Character: \")\n",
    "if str.isdigit()==True:\n",
    "    print(\"The given character\",str,\"is digit\")\n",
    "else:\n",
    "    print(\"The given character\",str,\"is not a digit\")"
   ]
  },
  {
   "cell_type": "markdown",
   "metadata": {},
   "source": [
    "### 6.WAP to print greatest number between given four numbers."
   ]
  },
  {
   "cell_type": "code",
   "execution_count": 10,
   "metadata": {},
   "outputs": [
    {
     "name": "stdout",
     "output_type": "stream",
     "text": [
      "Enter the num_1: 8\n",
      "Enter the num_2: 6\n",
      "Enter the num_3: 4\n",
      "Enter the num_4: 7\n",
      "The greates number is:  8\n"
     ]
    }
   ],
   "source": [
    "w = int(input(\"Enter the num_1: \"))\n",
    "x = int(input(\"Enter the num_2: \"))\n",
    "y = int(input(\"Enter the num_3: \"))\n",
    "z = int(input(\"Enter the num_4: \"))\n",
    "\n",
    "if (w >= x) and (w >= y) and (w >= z):\n",
    "    print(\"The greates number is: \",w)\n",
    "elif (x >= w) and (x >= y) and (x >= z):\n",
    "    print(\"The greates number is: \",x)\n",
    "elif (y >= w) and (y >= x) and (y >= z):\n",
    "    print(\"The greates number is: \",y)\n",
    "else:\n",
    "    print(\"The greates number is: \",z)"
   ]
  },
  {
   "cell_type": "markdown",
   "metadata": {},
   "source": [
    "## Loop Statements"
   ]
  },
  {
   "cell_type": "markdown",
   "metadata": {},
   "source": [
    "### 1.WAP to count number of digits in any number."
   ]
  },
  {
   "cell_type": "code",
   "execution_count": 16,
   "metadata": {},
   "outputs": [
    {
     "name": "stdout",
     "output_type": "stream",
     "text": [
      "Enter the Number: 12345678900987654321\n",
      "Count =  20\n"
     ]
    }
   ],
   "source": [
    "x = input(\"Enter the Number: \")\n",
    "count = 0\n",
    "for i in x:\n",
    "    count += 1\n",
    "print(\"Count = \",count)"
   ]
  },
  {
   "cell_type": "markdown",
   "metadata": {},
   "source": [
    "### 2.WAP to print sum and product of digits in any number."
   ]
  },
  {
   "cell_type": "code",
   "execution_count": 22,
   "metadata": {},
   "outputs": [
    {
     "name": "stdout",
     "output_type": "stream",
     "text": [
      "Enter the Number: 123456789\n",
      "Sum is:  45 And Product is:  362880\n"
     ]
    }
   ],
   "source": [
    "x = input(\"Enter the Number: \")\n",
    "sum = 0\n",
    "product = 1\n",
    "for i in x:\n",
    "    sum = sum + int(i)\n",
    "    product = product*int(i)\n",
    "print(\"Sum is: \",sum,\"And Product is: \",product)"
   ]
  },
  {
   "cell_type": "markdown",
   "metadata": {},
   "source": [
    "### 3.WAP to read a number and print it in reverse."
   ]
  },
  {
   "cell_type": "code",
   "execution_count": 29,
   "metadata": {},
   "outputs": [
    {
     "name": "stdout",
     "output_type": "stream",
     "text": [
      "Enter the Number: 12345\n",
      "54321\n"
     ]
    }
   ],
   "source": [
    "x = int(input(\"Enter the Number: \"))\n",
    "rev=0\n",
    "while (x > 0):\n",
    "    rem = x % 10\n",
    "    rev = (rev*10) + rem\n",
    "    x = x // 10\n",
    "print(rev)"
   ]
  },
  {
   "cell_type": "markdown",
   "metadata": {},
   "source": [
    "### 4.WAP to print Fibonacci Series upto given number."
   ]
  },
  {
   "cell_type": "code",
   "execution_count": 6,
   "metadata": {},
   "outputs": [
    {
     "name": "stdout",
     "output_type": "stream",
     "text": [
      "Enter the number: 10\n",
      "0 1 1 2 3 5 8 13 21 34 "
     ]
    }
   ],
   "source": [
    "n = int(input(\"Enter the number: \"))\n",
    "a = 0\n",
    "b = 1\n",
    "print(a,b,end=\" \")\n",
    "count = 2\n",
    "while count < n:\n",
    "    c = a+b\n",
    "    print(c,end=\" \")\n",
    "    a = b\n",
    "    b = c\n",
    "    count += 1"
   ]
  },
  {
   "cell_type": "markdown",
   "metadata": {},
   "source": [
    "### 5.WAP to print natural numbers in reverse starting from given number."
   ]
  },
  {
   "cell_type": "code",
   "execution_count": 5,
   "metadata": {},
   "outputs": [
    {
     "name": "stdout",
     "output_type": "stream",
     "text": [
      "Enter the number: 20\n",
      "20 19 18 17 16 15 14 13 12 11 10 9 8 7 6 5 4 3 2 1 "
     ]
    }
   ],
   "source": [
    "n = int(input(\"Enter the number: \"))\n",
    "s = 0\n",
    "for i in range(1,n+1):\n",
    "    s = (n+1)-i\n",
    "    print(s,end=\" \")"
   ]
  },
  {
   "cell_type": "markdown",
   "metadata": {},
   "source": [
    "### 6.WAP to print multiplication table of a given number."
   ]
  },
  {
   "cell_type": "code",
   "execution_count": null,
   "metadata": {},
   "outputs": [],
   "source": [
    "8 * 1 = 8\n",
    "8 * 2 = 16\n",
    " ------\n",
    "8 * 9 = 72\n",
    "8 * 10 = 80"
   ]
  },
  {
   "cell_type": "code",
   "execution_count": 10,
   "metadata": {},
   "outputs": [
    {
     "name": "stdout",
     "output_type": "stream",
     "text": [
      "Enter the number: 8\n",
      "8 16 24 32 40 48 56 64 72 80 "
     ]
    }
   ],
   "source": [
    "n = int(input(\"Enter the number: \"))\n",
    "s = 0\n",
    "for i in range(1,11):\n",
    "    s = n * i\n",
    "    print(s,end=\" \")    "
   ]
  },
  {
   "cell_type": "markdown",
   "metadata": {},
   "source": [
    "### 7.WAP to compute distance between 2 points taken from user."
   ]
  },
  {
   "cell_type": "code",
   "execution_count": 9,
   "metadata": {},
   "outputs": [
    {
     "name": "stdout",
     "output_type": "stream",
     "text": [
      "Enter the x1: 5\n",
      "Enter the x2: 6\n",
      "Enter the y1: 6\n",
      "Enter the y2: 9\n",
      "Distance is 3.1622776601683795\n"
     ]
    }
   ],
   "source": [
    "x1 = int(input(\"Enter the x1: \"))\n",
    "x2 = int(input(\"Enter the x2: \"))\n",
    "y1 = int(input(\"Enter the y1: \"))\n",
    "y2 = int(input(\"Enter the y2: \"))\n",
    "Distance = ((x2-x1)**2 + (y2-y1)**2) ** 0.5\n",
    "print(\"Distance is\",Distance)"
   ]
  },
  {
   "cell_type": "markdown",
   "metadata": {},
   "source": [
    "### 8.Continue Q.4 and print the sum of all even numbers in sequence."
   ]
  },
  {
   "cell_type": "code",
   "execution_count": null,
   "metadata": {},
   "outputs": [],
   "source": [
    "n = int(input(\"Enter the number: \"))\n",
    "a = 0\n",
    "b = 1\n",
    "print(a,b,end=\" \")\n",
    "count = 2\n",
    "while count < n:\n",
    "    c = a+b\n",
    "    print(c,end=\" \")\n",
    "    a = b\n",
    "    b = c\n",
    "    count += 1\n"
   ]
  },
  {
   "cell_type": "code",
   "execution_count": 4,
   "metadata": {},
   "outputs": [
    {
     "name": "stdout",
     "output_type": "stream",
     "text": [
      "Enter the number: 10\n",
      "0 1 1 2 3 5 8 13 21 34 \n",
      "Sum is =  44\n"
     ]
    }
   ],
   "source": [
    "n = int(input(\"Enter the number: \"))\n",
    "a = 0\n",
    "b = 1\n",
    "print(a,b,end=\" \")\n",
    "sum = 0\n",
    "count = 2\n",
    "while count < n:\n",
    "    c = a+b\n",
    "    print(c,end=\" \")\n",
    "    if c % 2 == 0:\n",
    "        sum = sum + c\n",
    "    a = b\n",
    "    b = c\n",
    "    count += 1\n",
    "print(\"\\nSum is = \",sum)"
   ]
  },
  {
   "cell_type": "markdown",
   "metadata": {},
   "source": [
    "### 9.WAP to check if the given number is Armstrong or not. (An Armstrong number is a number such that the sum of its digits raised to the third power is equal to the number itself. E.g. 371 , 153."
   ]
  },
  {
   "cell_type": "code",
   "execution_count": null,
   "metadata": {},
   "outputs": [],
   "source": [
    "# 153 = 1*1*1 + 5*5*5 + 3*3*3."
   ]
  },
  {
   "cell_type": "code",
   "execution_count": 13,
   "metadata": {},
   "outputs": [
    {
     "name": "stdout",
     "output_type": "stream",
     "text": [
      "Enter the number: 153\n",
      "The given number is Armstrong\n"
     ]
    }
   ],
   "source": [
    "num = int(input(\"Enter the number: \"))\n",
    "sum = 0\n",
    "a = num\n",
    "while num>0:\n",
    "    digit = num % 10\n",
    "    sum = sum + (digit**3)\n",
    "    num = num//10\n",
    "if a == sum:\n",
    "    print(\"The given number is Armstrong\")\n",
    "else:\n",
    "    print(\"The given number is not Armstrong\")"
   ]
  },
  {
   "cell_type": "markdown",
   "metadata": {},
   "source": [
    "### 10.WAP to compute Factorial of a number."
   ]
  },
  {
   "cell_type": "code",
   "execution_count": 20,
   "metadata": {},
   "outputs": [
    {
     "name": "stdout",
     "output_type": "stream",
     "text": [
      "Enter the number: 5\n",
      "120\n"
     ]
    }
   ],
   "source": [
    "num = int(input(\"Enter the number: \"))\n",
    "for i in range(1,num):\n",
    "    num = num * i\n",
    "print(num)    "
   ]
  },
  {
   "cell_type": "markdown",
   "metadata": {},
   "source": [
    "### 11.WAP to find roots of quadratic equation."
   ]
  },
  {
   "cell_type": "code",
   "execution_count": null,
   "metadata": {},
   "outputs": [],
   "source": [
    "# ax2 + bx + c = 0"
   ]
  },
  {
   "cell_type": "code",
   "execution_count": 19,
   "metadata": {},
   "outputs": [
    {
     "name": "stdout",
     "output_type": "stream",
     "text": [
      "Enter the value of a: 1\n",
      "Enter the value of b: 13\n",
      "Enter the value of c: 30\n",
      "x1= -3.0 x2= -10.0\n"
     ]
    }
   ],
   "source": [
    "a = int(input(\"Enter the value of a: \"))\n",
    "b = int(input(\"Enter the value of b: \"))\n",
    "c = int(input(\"Enter the value of c: \"))\n",
    "\n",
    "x1 = (-b + (((b*b)-(4*a*c))**0.5))/(2*a)\n",
    "x2 = (-b - (((b*b)-(4*a*c))**0.5))/(2*a)\n",
    "print(\"x1=\",x1,\"x2=\",x2)"
   ]
  },
  {
   "cell_type": "markdown",
   "metadata": {},
   "source": [
    "### 12.WAP to find if given number is divisible by 2 or 5 and not 10."
   ]
  },
  {
   "cell_type": "code",
   "execution_count": 6,
   "metadata": {},
   "outputs": [
    {
     "name": "stdout",
     "output_type": "stream",
     "text": [
      "Enter the number: 100\n",
      "2,4,5,6,8,12,14,15,16,18,22,24,25,26,28,32,34,35,36,38,42,44,45,46,48,52,54,55,56,58,62,64,65,66,68,72,74,75,76,78,82,84,85,86,88,92,94,95,96,98,"
     ]
    }
   ],
   "source": [
    "num = int(input(\"Enter the number: \"))\n",
    "for i in range(1, num):\n",
    "    if i % 2 == 0 or i % 5 == 0:\n",
    "        if i % 10 != 0:\n",
    "            print(i,end=\",\")"
   ]
  },
  {
   "cell_type": "markdown",
   "metadata": {},
   "source": [
    "### 13.WAP to check if given number is Perfect Number. (Perfect number, a positive integer that is equal to the sum of its proper divisors. The smallest perfect number is 6)."
   ]
  },
  {
   "cell_type": "code",
   "execution_count": 19,
   "metadata": {},
   "outputs": [
    {
     "name": "stdout",
     "output_type": "stream",
     "text": [
      "Enter the number: 6\n",
      "The given number is a Perfect Number\n"
     ]
    }
   ],
   "source": [
    "num = int(input(\"Enter the number: \"))\n",
    "sum = 0\n",
    "for i in range(1,num):\n",
    "    if num % i == 0:\n",
    "        sum = sum + i\n",
    "    \n",
    "if sum == num:\n",
    "    print(\"The given number is a Perfect Number\")\n",
    "else:\n",
    "    print(\"The given number is not a Perfect Number\")"
   ]
  },
  {
   "cell_type": "markdown",
   "metadata": {},
   "source": [
    "### 14.WAP to check if the given triangle is equilateral or not. Input the 3 point coordinates of triangle."
   ]
  },
  {
   "cell_type": "code",
   "execution_count": 5,
   "metadata": {},
   "outputs": [
    {
     "name": "stdout",
     "output_type": "stream",
     "text": [
      "Enter the x1: 2\n",
      "Enter the x2: 4\n",
      "Enter the x3: 6\n",
      "Enter the y1: 2\n",
      "Enter the y2: 4\n",
      "Enter the y3: 6\n",
      "The given triangle is not equilateral\n"
     ]
    }
   ],
   "source": [
    "x1 = int(input(\"Enter the x1: \"))\n",
    "x2 = int(input(\"Enter the x2: \"))\n",
    "x3 = int(input(\"Enter the x3: \"))\n",
    "y1 = int(input(\"Enter the y1: \"))\n",
    "y2 = int(input(\"Enter the y2: \"))\n",
    "y3 = int(input(\"Enter the y3: \"))\n",
    "\n",
    "D1 = ((x2-x1)**2 + (y2-y1)**2) ** 0.5\n",
    "D2 = ((x3-x2)**2 + (y3-y2)**2) ** 0.5\n",
    "D3 = ((x3-x1)**2 + (y3-y1)**2) ** 0.5\n",
    "\n",
    "if D1 == D2 == D3:\n",
    "    print(\"The given triangle is equilateral\")\n",
    "else:\n",
    "    print(\"The given triangle is not equilateral\")"
   ]
  },
  {
   "cell_type": "code",
   "execution_count": null,
   "metadata": {},
   "outputs": [],
   "source": []
  }
 ],
 "metadata": {
  "kernelspec": {
   "display_name": "Python 3",
   "language": "python",
   "name": "python3"
  },
  "language_info": {
   "codemirror_mode": {
    "name": "ipython",
    "version": 3
   },
   "file_extension": ".py",
   "mimetype": "text/x-python",
   "name": "python",
   "nbconvert_exporter": "python",
   "pygments_lexer": "ipython3",
   "version": "3.7.4"
  }
 },
 "nbformat": 4,
 "nbformat_minor": 2
}
