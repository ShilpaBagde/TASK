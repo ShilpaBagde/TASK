{
 "cells": [
  {
   "cell_type": "markdown",
   "metadata": {},
   "source": [
    "#### Question 1: Accept two int values from user and return their product. If the product is greater than 1000, then return their sum"
   ]
  },
  {
   "cell_type": "markdown",
   "metadata": {},
   "source": [
    "multiplication_or_sum(10,45) -> 450\n",
    "\n",
    "multiplication_or_sum(100,450) - > 550"
   ]
  },
  {
   "cell_type": "code",
   "execution_count": 44,
   "metadata": {},
   "outputs": [
    {
     "name": "stdout",
     "output_type": "stream",
     "text": [
      "Enter the 1st value v1 = 10\n",
      "Enter the 2nd value v2 = 45\n",
      "450\n"
     ]
    }
   ],
   "source": [
    "# Write your code here\n",
    "def Product(x1, x2):\n",
    "    prod = x1 * x2\n",
    "    \n",
    "    if prod > 1000:\n",
    "        Sum = x1 + x2\n",
    "        print(Sum)\n",
    "    else:\n",
    "        print(prod)\n",
    "    \n",
    "    \n",
    "v1 = int(input('Enter the 1st value v1 = '))\n",
    "v2 = int(input('Enter the 2nd value v2 = '))\n",
    "\n",
    "Product(v1, v2)\n",
    "    "
   ]
  },
  {
   "cell_type": "code",
   "execution_count": 45,
   "metadata": {},
   "outputs": [
    {
     "name": "stdout",
     "output_type": "stream",
     "text": [
      "Enter the 1st value v1 = 100\n",
      "Enter the 2nd value v2 = 450\n",
      "550\n"
     ]
    }
   ],
   "source": [
    "def Product(x1, x2):\n",
    "    prod = x1 * x2\n",
    "    \n",
    "    if prod > 1000:\n",
    "        Sum = x1 + x2\n",
    "        print(Sum)\n",
    "    else:\n",
    "        print(prod)\n",
    "    \n",
    "    \n",
    "v1 = int(input('Enter the 1st value v1 = '))\n",
    "v2 = int(input('Enter the 2nd value v2 = '))\n",
    "\n",
    "Product(v1, v2)"
   ]
  },
  {
   "cell_type": "code",
   "execution_count": 51,
   "metadata": {},
   "outputs": [
    {
     "name": "stdout",
     "output_type": "stream",
     "text": [
      "Enter the 1st value v1 = 10\n",
      "Enter the 2nd value v2 = 45\n",
      "450\n"
     ]
    }
   ],
   "source": [
    "v1 = int(input('Enter the 1st value v1 = '))\n",
    "v2 = int(input('Enter the 2nd value v2 = '))\n",
    "\n",
    "product = v1 * v2\n",
    "\n",
    "if product > 1000:\n",
    "    Sum = v1 + v2\n",
    "    print(Sum)\n",
    "else:\n",
    "    print(product)\n"
   ]
  },
  {
   "cell_type": "code",
   "execution_count": 50,
   "metadata": {},
   "outputs": [
    {
     "name": "stdout",
     "output_type": "stream",
     "text": [
      "Enter the 1st value v1 = 100\n",
      "Enter the 2nd value v2 = 450\n",
      "550\n"
     ]
    }
   ],
   "source": [
    "v1 = int(input('Enter the 1st value v1 = '))\n",
    "v2 = int(input('Enter the 2nd value v2 = '))\n",
    "\n",
    "product = v1 * v2\n",
    "\n",
    "if product > 1000:\n",
    "    Sum = v1 + v2\n",
    "    print(Sum)\n",
    "else:\n",
    "    print(product)"
   ]
  },
  {
   "cell_type": "code",
   "execution_count": null,
   "metadata": {},
   "outputs": [],
   "source": []
  },
  {
   "cell_type": "markdown",
   "metadata": {},
   "source": [
    "#### Question 2: Given a range of numbers. Iterate from 0^th number to the end number and print the sum of the current number and previous number"
   ]
  },
  {
   "cell_type": "markdown",
   "metadata": {},
   "source": [
    "sumNum(5)  ->  0 1 3 5 7"
   ]
  },
  {
   "cell_type": "code",
   "execution_count": 80,
   "metadata": {},
   "outputs": [
    {
     "name": "stdout",
     "output_type": "stream",
     "text": [
      "0\n",
      "1\n",
      "4\n",
      "9\n",
      "16\n"
     ]
    }
   ],
   "source": [
    "# Write your code here\n",
    "Num = [0, 1, 3, 5, 7]\n",
    "Sum = 0\n",
    "for i in Num:\n",
    "    Sum = i + Sum\n",
    "    print(Sum)"
   ]
  },
  {
   "cell_type": "code",
   "execution_count": null,
   "metadata": {},
   "outputs": [],
   "source": []
  },
  {
   "cell_type": "markdown",
   "metadata": {},
   "source": [
    "#### 3: Accept string from the user and display only those characters which are present at an even index"
   ]
  },
  {
   "cell_type": "code",
   "execution_count": 61,
   "metadata": {},
   "outputs": [
    {
     "name": "stdout",
     "output_type": "stream",
     "text": [
      "Enter String abcdefghi\n"
     ]
    },
    {
     "data": {
      "text/plain": [
       "'acegi'"
      ]
     },
     "execution_count": 61,
     "metadata": {},
     "output_type": "execute_result"
    }
   ],
   "source": [
    "# Write your code here\n",
    "str = input('Enter String ')\n",
    "str[ : : 2]"
   ]
  },
  {
   "cell_type": "code",
   "execution_count": null,
   "metadata": {},
   "outputs": [],
   "source": []
  },
  {
   "cell_type": "markdown",
   "metadata": {},
   "source": [
    "#### 4: Given a string and an int n, remove characters from string starting from zero upto n and return a new string"
   ]
  },
  {
   "cell_type": "markdown",
   "metadata": {},
   "source": [
    "removeChars(\"pynative\", 4) -> tive"
   ]
  },
  {
   "cell_type": "code",
   "execution_count": 70,
   "metadata": {},
   "outputs": [
    {
     "data": {
      "text/plain": [
       "'tive'"
      ]
     },
     "execution_count": 70,
     "metadata": {},
     "output_type": "execute_result"
    }
   ],
   "source": [
    "# Write your code here\n",
    "str = 'pynative'\n",
    "str[4:8]"
   ]
  },
  {
   "cell_type": "code",
   "execution_count": null,
   "metadata": {},
   "outputs": [],
   "source": []
  },
  {
   "cell_type": "markdown",
   "metadata": {},
   "source": [
    "#### 5: Given a list of ints, return True if first and last number of a list is same"
   ]
  },
  {
   "cell_type": "markdown",
   "metadata": {},
   "source": [
    "isFirst_And_Last_Same([10, 20, 30, 40, 10])->True\n",
    "\n",
    "isFirst_And_Last_Same([10, 20, 30, 90])->False\n"
   ]
  },
  {
   "cell_type": "code",
   "execution_count": 71,
   "metadata": {},
   "outputs": [
    {
     "data": {
      "text/plain": [
       "True"
      ]
     },
     "execution_count": 71,
     "metadata": {},
     "output_type": "execute_result"
    }
   ],
   "source": [
    "# Write your code here\n",
    "list1 = [10, 20, 30, 40, 10]\n",
    "list1[0] == list1[4]"
   ]
  },
  {
   "cell_type": "code",
   "execution_count": 72,
   "metadata": {},
   "outputs": [
    {
     "data": {
      "text/plain": [
       "False"
      ]
     },
     "execution_count": 72,
     "metadata": {},
     "output_type": "execute_result"
    }
   ],
   "source": [
    "list2 = [10, 20, 30, 90]\n",
    "list2[0] == list2[3]"
   ]
  },
  {
   "cell_type": "markdown",
   "metadata": {},
   "source": [
    "#### 6: Given a list of numbers, Iterate it and print only those numbers which are divisible of 5"
   ]
  },
  {
   "cell_type": "markdown",
   "metadata": {},
   "source": [
    "findDivisible([10, 20, 33, 46, 55]) ->10 20 55"
   ]
  },
  {
   "cell_type": "code",
   "execution_count": 73,
   "metadata": {},
   "outputs": [
    {
     "name": "stdout",
     "output_type": "stream",
     "text": [
      "10\n",
      "20\n",
      "55\n"
     ]
    }
   ],
   "source": [
    "# Write your code here\n",
    "L = [10, 20, 33, 46, 55]\n",
    "for i in L:\n",
    "    if i % 5 == 0:\n",
    "        print(i)\n",
    "    else:\n",
    "        continue"
   ]
  },
  {
   "cell_type": "markdown",
   "metadata": {},
   "source": [
    "#### 7: Return the number of times that the string “Emma” appears anywhere in the given string"
   ]
  },
  {
   "cell_type": "markdown",
   "metadata": {},
   "source": [
    "Input : \"Emma is good developer. Emma is aslo a writer\"\n",
    "\n",
    "Output : 2"
   ]
  },
  {
   "cell_type": "code",
   "execution_count": 1,
   "metadata": {},
   "outputs": [
    {
     "name": "stdout",
     "output_type": "stream",
     "text": [
      "Emma apeared 2 times\n"
     ]
    }
   ],
   "source": [
    "# Write your code here\n",
    "str = \"Emma is good developer. Emma is aslo a writer\"\n",
    "words = str.split()\n",
    "count = 0\n",
    "for i in words:\n",
    "    if i == \"Emma\":\n",
    "        count += 1\n",
    "print('Emma apeared',count,'times')"
   ]
  },
  {
   "cell_type": "code",
   "execution_count": null,
   "metadata": {},
   "outputs": [],
   "source": []
  },
  {
   "cell_type": "markdown",
   "metadata": {},
   "source": [
    "#### 8: Print the following pattern\n",
    "    1 \n",
    "    2 2 \n",
    "    3 3 3 \n",
    "    4 4 4 4 \n",
    "    5 5 5 5 5"
   ]
  },
  {
   "cell_type": "code",
   "execution_count": 77,
   "metadata": {},
   "outputs": [
    {
     "name": "stdout",
     "output_type": "stream",
     "text": [
      "\n",
      "1  \n",
      "2  2  \n",
      "3  3  3  \n",
      "4  4  4  4  \n",
      "5  5  5  5  5  "
     ]
    }
   ],
   "source": [
    "# Write your code here\n",
    "for i in range(1,6):\n",
    "    print()  \n",
    "    for j in range(1,i+1):  \n",
    "        print(i,\" \", end=\"\")  "
   ]
  },
  {
   "cell_type": "code",
   "execution_count": null,
   "metadata": {},
   "outputs": [],
   "source": []
  },
  {
   "cell_type": "markdown",
   "metadata": {},
   "source": [
    " #### 9: Reverse a given number and return true if it is the same as the original number"
   ]
  },
  {
   "cell_type": "markdown",
   "metadata": {},
   "source": [
    "reverseCheck(121) -> True\n",
    "\n",
    "reverseCheck(254) -> False"
   ]
  },
  {
   "cell_type": "code",
   "execution_count": 1,
   "metadata": {},
   "outputs": [
    {
     "name": "stdout",
     "output_type": "stream",
     "text": [
      "Enter a number 121\n",
      "True\n"
     ]
    }
   ],
   "source": [
    "# Write your code here\n",
    "num = int(input('Enter a number '))\n",
    "rev = 0\n",
    "n = num\n",
    "while(n > 0):\n",
    "    R = n % 10\n",
    "    rev = (rev*10)+R\n",
    "    n = n//10\n",
    "\n",
    "if (num == rev):\n",
    "    print('True')\n",
    "else:\n",
    "    print('False')"
   ]
  },
  {
   "cell_type": "code",
   "execution_count": 2,
   "metadata": {},
   "outputs": [
    {
     "name": "stdout",
     "output_type": "stream",
     "text": [
      "Enter a number 254\n",
      "False\n"
     ]
    }
   ],
   "source": [
    "num = int(input('Enter a number '))\n",
    "rev = 0\n",
    "n = num\n",
    "while(n > 0):\n",
    "    R = n % 10\n",
    "    rev = (rev*10)+R\n",
    "    n = n//10\n",
    "\n",
    "if (num == rev):\n",
    "    print('True')\n",
    "else:\n",
    "    print('False')"
   ]
  },
  {
   "cell_type": "code",
   "execution_count": null,
   "metadata": {},
   "outputs": [],
   "source": []
  },
  {
   "cell_type": "markdown",
   "metadata": {},
   "source": [
    "#### 10: Given a two list of ints create a third list such that should contain only odd numbers from the first list and even numbers from the second list"
   ]
  },
  {
   "cell_type": "markdown",
   "metadata": {},
   "source": [
    "Input:\n",
    "\n",
    "listOne = [10, 20, 23, 11, 17]\n",
    "\n",
    "listTwo = [13, 43, 24, 36, 12]\n",
    "\n",
    "Output:\n",
    "\n",
    "[23, 11, 17, 24, 36, 12]"
   ]
  },
  {
   "cell_type": "code",
   "execution_count": 74,
   "metadata": {},
   "outputs": [
    {
     "name": "stdout",
     "output_type": "stream",
     "text": [
      "[23, 11, 17, 24, 36, 12]\n"
     ]
    }
   ],
   "source": [
    "# Write your code here\n",
    "listOne = [10, 20, 23, 11, 17]\n",
    "listTwo = [13, 43, 24, 36, 12]\n",
    "L = []\n",
    "for i in listOne:\n",
    "    if i % 2 != 0:\n",
    "        L.append(i)\n",
    "for j in listTwo:\n",
    "    if j % 2 == 0:\n",
    "        L.append(j)\n",
    "print(L)"
   ]
  },
  {
   "cell_type": "code",
   "execution_count": null,
   "metadata": {},
   "outputs": [],
   "source": []
  }
 ],
 "metadata": {
  "kernelspec": {
   "display_name": "Python 3",
   "language": "python",
   "name": "python3"
  },
  "language_info": {
   "codemirror_mode": {
    "name": "ipython",
    "version": 3
   },
   "file_extension": ".py",
   "mimetype": "text/x-python",
   "name": "python",
   "nbconvert_exporter": "python",
   "pygments_lexer": "ipython3",
   "version": "3.7.4"
  }
 },
 "nbformat": 4,
 "nbformat_minor": 2
}
