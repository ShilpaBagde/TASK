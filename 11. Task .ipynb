{
 "cells": [
  {
   "cell_type": "code",
   "execution_count": 1,
   "metadata": {},
   "outputs": [
    {
     "name": "stdout",
     "output_type": "stream",
     "text": [
      "Writing test.txt\n"
     ]
    }
   ],
   "source": [
    "%%writefile test.txt\n",
    "Hello, \n",
    "My name is Jose. \n",
    "I'm 17 years old."
   ]
  },
  {
   "cell_type": "markdown",
   "metadata": {},
   "source": [
    "#### Create a text file. Read the content of the file. Encrypt the content and save in the new file.\n",
    "\n",
    "    Encrypt all the character shown below:\n",
    "    \n",
    "    Input:    A B C D E F ... U V W X Y Z      a b c d e f ... u v w x y z\n",
    "              | | | | | |     | | | | | |      | | | | | |     | | | | | | \n",
    "    Output:   E F G H I J     Y Z A B C D      e f g h i j     y z a b c d\n",
    "    \n",
    "    \n",
    "    \n",
    "    Example : My name is Jose. I'm 17 years old.\n",
    "    output  : Qc reqi mw Nswi. M'q 17 cievw sph.\n",
    "    \n",
    "    HINT: ord(), chr()"
   ]
  },
  {
   "cell_type": "code",
   "execution_count": 2,
   "metadata": {},
   "outputs": [
    {
     "name": "stdout",
     "output_type": "stream",
     "text": [
      "Lipps, \n",
      "Qc reqi mw Nswi. \n",
      "M'q 17 cievw sph.\n",
      "\n"
     ]
    }
   ],
   "source": [
    "fh=open(\"test.txt\",\"r\")\n",
    "out = ''\n",
    "for line in fh:\n",
    "    for i in line:\n",
    "        if i.isalpha():\n",
    "            g = ord(i)+4\n",
    "            if ord(i) == 119:\n",
    "                g = 97\n",
    "            elif ord(i) == 120:\n",
    "                g = 98\n",
    "            elif ord(i) == 121:\n",
    "                g = 99\n",
    "            elif ord(i) == 122:\n",
    "                g = 100\n",
    "            else:\n",
    "                pass\n",
    "            f = chr(g)\n",
    "            out = out + f\n",
    "        else:\n",
    "            out = out + i\n",
    "print(out)"
   ]
  },
  {
   "cell_type": "code",
   "execution_count": 3,
   "metadata": {},
   "outputs": [],
   "source": [
    "f=open(\"new.txt\",\"w\")\n",
    "f.write(out)\n",
    "f.close()"
   ]
  },
  {
   "cell_type": "markdown",
   "metadata": {},
   "source": [
    "#### Now, read the content of the newly created file and decrypt it in the original file.\n",
    "\n",
    "    Example  : Qc reqi mw Nswi. M'q 17 cievw sph.\n",
    "    Output   : My name is Jose. I'm 17 years old.\n",
    "    "
   ]
  },
  {
   "cell_type": "code",
   "execution_count": 4,
   "metadata": {},
   "outputs": [
    {
     "name": "stdout",
     "output_type": "stream",
     "text": [
      "Hello, \n",
      "My name is Jose. \n",
      "I'm 17 years old.\n",
      "\n"
     ]
    }
   ],
   "source": [
    "fh=open(\"new.txt\",\"r\")\n",
    "out = ''\n",
    "for line in fh:\n",
    "    for i in line:\n",
    "        if i.isalpha():\n",
    "            g = ord(i)-4\n",
    "            if ord(i) == 97:\n",
    "                g = 119\n",
    "            elif ord(i) == 98:\n",
    "                g = 120\n",
    "            elif ord(i) == 99:\n",
    "                g = 121\n",
    "            elif ord(i) == 100:\n",
    "                g = 122\n",
    "            else:\n",
    "                pass\n",
    "            f = chr(g)\n",
    "            out = out + f\n",
    "        else:\n",
    "            out = out + i\n",
    "print(out)"
   ]
  },
  {
   "cell_type": "code",
   "execution_count": null,
   "metadata": {},
   "outputs": [],
   "source": []
  }
 ],
 "metadata": {
  "kernelspec": {
   "display_name": "Python 3",
   "language": "python",
   "name": "python3"
  },
  "language_info": {
   "codemirror_mode": {
    "name": "ipython",
    "version": 3
   },
   "file_extension": ".py",
   "mimetype": "text/x-python",
   "name": "python",
   "nbconvert_exporter": "python",
   "pygments_lexer": "ipython3",
   "version": "3.7.4"
  }
 },
 "nbformat": 4,
 "nbformat_minor": 2
}
