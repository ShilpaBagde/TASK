{
 "cells": [
  {
   "cell_type": "markdown",
   "metadata": {},
   "source": [
    "#### 1: Input a string of odd length greater 7, return a string made of the middle three chars of a given String"
   ]
  },
  {
   "cell_type": "markdown",
   "metadata": {},
   "source": [
    "    getMiddleThreeChars(\"JhonDipPeta\") → \"Dip\"\n",
    "    getMiddleThreeChars(\"Jasonay\") → \"son\""
   ]
  },
  {
   "cell_type": "code",
   "execution_count": 3,
   "metadata": {},
   "outputs": [],
   "source": [
    "# write your code here\n",
    "def getMiddleThreeChars(str):\n",
    "    s = int(len(str)/2)\n",
    "    T = str[s-1:s+2]\n",
    "    print(T)"
   ]
  },
  {
   "cell_type": "code",
   "execution_count": 4,
   "metadata": {},
   "outputs": [
    {
     "name": "stdout",
     "output_type": "stream",
     "text": [
      "Dip\n"
     ]
    }
   ],
   "source": [
    "getMiddleThreeChars(\"JhonDipPeta\")"
   ]
  },
  {
   "cell_type": "code",
   "execution_count": 5,
   "metadata": {},
   "outputs": [
    {
     "name": "stdout",
     "output_type": "stream",
     "text": [
      "son\n"
     ]
    }
   ],
   "source": [
    "getMiddleThreeChars(\"Jasonay\")"
   ]
  },
  {
   "cell_type": "markdown",
   "metadata": {},
   "source": [
    "#### 2: Given 2 strings, s1 and s2, create a new string by appending s2 in the middle of s1"
   ]
  },
  {
   "cell_type": "markdown",
   "metadata": {},
   "source": [
    "    appendMiddle(\"Chrisdem\", IamNewString) → \"ChriIamNewStringsdem\"\n",
    "    "
   ]
  },
  {
   "cell_type": "code",
   "execution_count": 1,
   "metadata": {},
   "outputs": [
    {
     "name": "stdout",
     "output_type": "stream",
     "text": [
      "ChriIamNewStringsdem\n"
     ]
    }
   ],
   "source": [
    "# write your code here\n",
    "def appendMiddle(s1, s2):\n",
    "    s = int(len(s1)/2)\n",
    "    b= s1[:s:]+s2+s1[s:]\n",
    "\n",
    "    print(b)\n",
    "appendMiddle(\"Chrisdem\", \"IamNewString\")"
   ]
  },
  {
   "cell_type": "markdown",
   "metadata": {},
   "source": [
    "#### 3: Given 2 strings, s1, and s2 return a new string made of the first, middle and last char each input string"
   ]
  },
  {
   "cell_type": "markdown",
   "metadata": {},
   "source": [
    "    mixString(\"America\", \"Japan\") → \"AJrpan\""
   ]
  },
  {
   "cell_type": "code",
   "execution_count": 2,
   "metadata": {},
   "outputs": [
    {
     "data": {
      "text/plain": [
       "'AJrpan'"
      ]
     },
     "execution_count": 2,
     "metadata": {},
     "output_type": "execute_result"
    }
   ],
   "source": [
    "# write your code here\n",
    "def mixString(s1, s2):\n",
    "    x1 = int(len(s1)/2)\n",
    "    x2 = int(len(s2)/2)\n",
    "    m = s1[0]+s2[0]+s1[x1]+s2[x2]+s1[x1+3]+s2[x2-3]\n",
    "    return m\n",
    "                      \n",
    "mixString(\"America\", \"Japan\")"
   ]
  },
  {
   "cell_type": "markdown",
   "metadata": {},
   "source": [
    "#### 4: arrange String characters such that lowercase letters should come first"
   ]
  },
  {
   "cell_type": "markdown",
   "metadata": {},
   "source": [
    "        lowercaseFirst(\"PyNaTive\") = yaivePNT"
   ]
  },
  {
   "cell_type": "code",
   "execution_count": 2,
   "metadata": {},
   "outputs": [],
   "source": [
    "# write your code here\n",
    "def lowercaseFirst(str):\n",
    "    lower = []\n",
    "    upper = []\n",
    "    for i in str:\n",
    "        if i.islower():\n",
    "            lower.append(i)\n",
    "        else:\n",
    "            upper.append(i)\n",
    "    result = ''.join(lower + upper)\n",
    "    return result"
   ]
  },
  {
   "cell_type": "code",
   "execution_count": 3,
   "metadata": {},
   "outputs": [
    {
     "data": {
      "text/plain": [
       "'yaivePNT'"
      ]
     },
     "execution_count": 3,
     "metadata": {},
     "output_type": "execute_result"
    }
   ],
   "source": [
    "lowercaseFirst(\"PyNaTive\")"
   ]
  },
  {
   "cell_type": "code",
   "execution_count": 1,
   "metadata": {},
   "outputs": [],
   "source": []
  },
  {
   "cell_type": "markdown",
   "metadata": {},
   "source": [
    "####  5: Given an input string Count all lower case, upper case, digits, and special symbols"
   ]
  },
  {
   "cell_type": "markdown",
   "metadata": {},
   "source": [
    "        findDigitsCharsSymbols(\"P@#yn26at^&i5ve\") = Chars = 8, Digits = 3, Symbol = 4"
   ]
  },
  {
   "cell_type": "code",
   "execution_count": 7,
   "metadata": {},
   "outputs": [
    {
     "name": "stdout",
     "output_type": "stream",
     "text": [
      "Chars =  8 Digits =  3 Symbol =  4\n"
     ]
    }
   ],
   "source": [
    "# write your code here\n",
    "def findDigitsCharsSymbols(str):\n",
    "    c_count = 0\n",
    "    d_count = 0\n",
    "    ss_count = 0\n",
    "    for i in str:\n",
    "        if i.islower() or i.isupper():\n",
    "            c_count += 1\n",
    "        elif i.isnumeric():\n",
    "            d_count += 1\n",
    "        else:\n",
    "            ss_count += 1\n",
    "    print(\"Chars = \", c_count, \"Digits = \", d_count, \"Symbol = \", ss_count)\n",
    "            \n",
    "\n",
    "findDigitsCharsSymbols(\"P@#yn26at^&i5ve\")"
   ]
  },
  {
   "cell_type": "markdown",
   "metadata": {},
   "source": [
    "#### 6: Given two strings, s1 and s2, create a mix String"
   ]
  },
  {
   "cell_type": "markdown",
   "metadata": {},
   "source": [
    "        mixString(\"Pynative\", \"Website\") = PeytniastbievWe"
   ]
  },
  {
   "cell_type": "code",
   "execution_count": 11,
   "metadata": {},
   "outputs": [
    {
     "name": "stdout",
     "output_type": "stream",
     "text": [
      " PeytniastbievWe\n"
     ]
    }
   ],
   "source": [
    "# write your code here\n",
    "def mixString(s1, s2):\n",
    "    s2 = s2[::-1]\n",
    "    l_s1 = len(s1)\n",
    "    l_s2 = len(s2)\n",
    "    length = l_s1 + l_s2\n",
    "    str =\" \"\n",
    "    for i in range(length):\n",
    "        if(i < l_s1):\n",
    "            str = str + s1[i]\n",
    "        if(i < l_s2):\n",
    "            str = str + s2[i]\n",
    "        \n",
    "    print(str) \n",
    "            \n",
    "mixString(\"Pynative\", \"Website\")"
   ]
  },
  {
   "cell_type": "code",
   "execution_count": null,
   "metadata": {},
   "outputs": [],
   "source": []
  },
  {
   "cell_type": "markdown",
   "metadata": {},
   "source": [
    "#### 7: Given two strings, s1 and s2, check if all the characters of s1 is present in s2"
   ]
  },
  {
   "cell_type": "markdown",
   "metadata": {},
   "source": [
    "        stringBalanceCheck('yn', 'Pynative') = True"
   ]
  },
  {
   "cell_type": "code",
   "execution_count": 9,
   "metadata": {},
   "outputs": [
    {
     "data": {
      "text/plain": [
       "True"
      ]
     },
     "execution_count": 9,
     "metadata": {},
     "output_type": "execute_result"
    }
   ],
   "source": [
    "# write your code here\n",
    "def stringBalanceCheck(s1, s2):\n",
    "    for i in s1:\n",
    "        if i in s2:\n",
    "            continue\n",
    "        else:\n",
    "            return False\n",
    "    return True\n",
    "\n",
    "stringBalanceCheck('yn', 'Pynative')"
   ]
  },
  {
   "cell_type": "markdown",
   "metadata": {},
   "source": [
    "#### 8: Find all occurrences of “USA” in given string ignoring the case"
   ]
  },
  {
   "cell_type": "markdown",
   "metadata": {},
   "source": [
    "        countOccurrences(\"Welcome to USA. usa awesome, isn't it?\") = 2"
   ]
  },
  {
   "cell_type": "code",
   "execution_count": 12,
   "metadata": {},
   "outputs": [
    {
     "name": "stdout",
     "output_type": "stream",
     "text": [
      "2\n"
     ]
    }
   ],
   "source": [
    "# write your code here\n",
    "def countOccurrences(str):\n",
    "    str = \"Welcome to USA. usa awesome, isn't it?\"\n",
    "    string = \"usa\"\n",
    "    b = str.lower()\n",
    "    count = b.count(string)\n",
    "    print(count)\n",
    "\n",
    "countOccurrences(\"Welcome to USA. usa awesome, isn't it?\")"
   ]
  },
  {
   "cell_type": "code",
   "execution_count": null,
   "metadata": {},
   "outputs": [],
   "source": []
  },
  {
   "cell_type": "markdown",
   "metadata": {},
   "source": [
    "#### 9: Given a string, return the sum and average of the digits that appear in the string, ignoring all other characters"
   ]
  },
  {
   "cell_type": "markdown",
   "metadata": {},
   "source": [
    "    Hint: isnumeric()"
   ]
  },
  {
   "cell_type": "markdown",
   "metadata": {},
   "source": [
    "        sumAndAverage(\"English = 78 Science = 83 Math = 68 History = 65\") = sum 294 Percentage is 73.5"
   ]
  },
  {
   "cell_type": "code",
   "execution_count": 10,
   "metadata": {},
   "outputs": [
    {
     "name": "stdout",
     "output_type": "stream",
     "text": [
      "Sum = 294 Average = 73.5\n"
     ]
    }
   ],
   "source": [
    "# write your code here\n",
    "def sumAndAverage(str):\n",
    "    sum = 0\n",
    "    count = 0\n",
    "    a = str.split()\n",
    "    for i in a:\n",
    "        if i.isnumeric():\n",
    "            count += 1\n",
    "            sum += int(i)\n",
    "            Average = sum/count\n",
    "        else:\n",
    "            continue\n",
    "\n",
    "    print(\"Sum =\",sum, \"Average =\",Average )\n",
    "\n",
    "                \n",
    "sumAndAverage(\"English = 78 Science = 83 Math = 68 History = 65\")"
   ]
  },
  {
   "cell_type": "code",
   "execution_count": null,
   "metadata": {},
   "outputs": [],
   "source": []
  },
  {
   "cell_type": "markdown",
   "metadata": {},
   "source": [
    "#### 10: Given an input string, count occurrences of all characters within a string"
   ]
  },
  {
   "cell_type": "markdown",
   "metadata": {},
   "source": [
    "        count(\"pynativepynvepynative\") = {'p': 3, 'y': 3, 'n': 3, 'a': 2, 't': 2, 'i': 2, 'v': 3, 'e': 3}"
   ]
  },
  {
   "cell_type": "code",
   "execution_count": 1,
   "metadata": {},
   "outputs": [],
   "source": [
    "# write your code here\n",
    "def count(str):\n",
    "    count={}\n",
    "    for i in str:\n",
    "        count[i] = str.count(i)\n",
    "    return count"
   ]
  },
  {
   "cell_type": "code",
   "execution_count": 2,
   "metadata": {},
   "outputs": [
    {
     "data": {
      "text/plain": [
       "{'p': 3, 'y': 3, 'n': 3, 'a': 2, 't': 2, 'i': 2, 'v': 3, 'e': 3}"
      ]
     },
     "execution_count": 2,
     "metadata": {},
     "output_type": "execute_result"
    }
   ],
   "source": [
    "count(\"pynativepynvepynative\")"
   ]
  },
  {
   "cell_type": "code",
   "execution_count": null,
   "metadata": {},
   "outputs": [],
   "source": []
  }
 ],
 "metadata": {
  "kernelspec": {
   "display_name": "Python 3",
   "language": "python",
   "name": "python3"
  },
  "language_info": {
   "codemirror_mode": {
    "name": "ipython",
    "version": 3
   },
   "file_extension": ".py",
   "mimetype": "text/x-python",
   "name": "python",
   "nbconvert_exporter": "python",
   "pygments_lexer": "ipython3",
   "version": "3.7.4"
  }
 },
 "nbformat": 4,
 "nbformat_minor": 2
}
