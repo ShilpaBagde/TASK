{
 "cells": [
  {
   "cell_type": "markdown",
   "metadata": {},
   "source": [
    "# Function Practice Exercises\n",
    "Problems are arranged in increasing difficulty:\n",
    "\n",
    "Warmup - these can be solved using basic comparisons and methods\n",
    "Level 1 - these may involve if/then conditional statements and simple methods\n",
    "Level 2 - these may require iterating over sequences, usually with some kind of loop\n",
    "Challenging - these will take some creativity to solve"
   ]
  },
  {
   "cell_type": "markdown",
   "metadata": {},
   "source": [
    "# WARMUP SECTION:\n",
    "#### LESSER OF TWO EVENS: Write a function that returns the lesser of two given numbers if both numbers are even, but returns the greater if one or both numbers are odd\n",
    "lesser_of_two_evens(2,4) --> 2\n",
    "\n",
    "lesser_of_two_evens(2,5) --> 5"
   ]
  },
  {
   "cell_type": "code",
   "execution_count": 1,
   "metadata": {},
   "outputs": [
    {
     "name": "stdout",
     "output_type": "stream",
     "text": [
      "Enter the number 2\n",
      "Enter the number 4\n",
      "2\n"
     ]
    }
   ],
   "source": [
    "# Write your code here\n",
    "def fun(d1,d2):\n",
    "    if d1 % 2 == 0 and d2 % 2 == 0:\n",
    "        if d1 > d2:\n",
    "            print(d2)\n",
    "        else:\n",
    "            print(d1)\n",
    "    \n",
    "    else:\n",
    "        if d1 % 2 != 0 or d2 % 2 != 0:\n",
    "            if d1 > d2:\n",
    "                print(d1)\n",
    "            else:\n",
    "                print(d2)\n",
    "    \n",
    "n1 = int(input('Enter the number '))\n",
    "n2 = int(input('Enter the number '))\n",
    "fun(n1, n2)"
   ]
  },
  {
   "cell_type": "code",
   "execution_count": 2,
   "metadata": {},
   "outputs": [
    {
     "name": "stdout",
     "output_type": "stream",
     "text": [
      "Enter the number 2\n",
      "Enter the number 5\n",
      "5\n"
     ]
    }
   ],
   "source": [
    "def fun(d1,d2):\n",
    "    if d1 % 2 == 0 and d2 % 2 == 0:\n",
    "        if d1 > d2:\n",
    "            print(d2)\n",
    "        else:\n",
    "            print(d1)\n",
    "    \n",
    "    else:\n",
    "        if d1 % 2 != 0 or d2 % 2 != 0:\n",
    "            if d1 > d2:\n",
    "                print(d1)\n",
    "            else:\n",
    "                print(d2)\n",
    "    \n",
    "n1 = int(input('Enter the number '))\n",
    "n2 = int(input('Enter the number '))\n",
    "fun(n1, n2)"
   ]
  },
  {
   "cell_type": "code",
   "execution_count": null,
   "metadata": {},
   "outputs": [],
   "source": []
  },
  {
   "cell_type": "markdown",
   "metadata": {},
   "source": [
    "#### ANIMAL CRACKERS: Write a function takes a two-word string and returns True if both words begin with same letter\n",
    "animal_crackers('Levelheaded Llama') --> True\n",
    "\n",
    "animal_crackers('Crazy Kangaroo') --> False"
   ]
  },
  {
   "cell_type": "code",
   "execution_count": 3,
   "metadata": {},
   "outputs": [
    {
     "name": "stdout",
     "output_type": "stream",
     "text": [
      "Enter string Levelheaded Llama\n"
     ]
    },
    {
     "data": {
      "text/plain": [
       "True"
      ]
     },
     "execution_count": 3,
     "metadata": {},
     "output_type": "execute_result"
    }
   ],
   "source": [
    "# Write your code here\n",
    "def string(st):\n",
    "    W = st.split()\n",
    "    if W[0][0] == W[1][0]:\n",
    "        return True\n",
    "    else:\n",
    "        return False\n",
    "    \n",
    "str = input('Enter string ')\n",
    "string(str)"
   ]
  },
  {
   "cell_type": "code",
   "execution_count": 4,
   "metadata": {},
   "outputs": [
    {
     "name": "stdout",
     "output_type": "stream",
     "text": [
      "Enter string Crazy Kangaroo\n"
     ]
    },
    {
     "data": {
      "text/plain": [
       "False"
      ]
     },
     "execution_count": 4,
     "metadata": {},
     "output_type": "execute_result"
    }
   ],
   "source": [
    "def string(st):\n",
    "    W = st.split()\n",
    "    if W[0][0] == W[1][0]:\n",
    "        return True\n",
    "    else:\n",
    "        return False\n",
    "    \n",
    "str = input('Enter string ')\n",
    "string(str)"
   ]
  },
  {
   "cell_type": "code",
   "execution_count": null,
   "metadata": {},
   "outputs": [],
   "source": []
  },
  {
   "cell_type": "markdown",
   "metadata": {},
   "source": [
    "#### MAKES TWENTY: Given two integers, return True if the sum of the integers is 20 or if one of the integers is 20. If not, return False\n",
    "makes_twenty(20,10) --> True\n",
    "\n",
    "makes_twenty(12,8) --> True\n",
    "\n",
    "makes_twenty(2,3) --> False"
   ]
  },
  {
   "cell_type": "code",
   "execution_count": 6,
   "metadata": {},
   "outputs": [
    {
     "name": "stdout",
     "output_type": "stream",
     "text": [
      "Enter the number x = 20\n",
      "Enter the number y = 10\n"
     ]
    },
    {
     "data": {
      "text/plain": [
       "True"
      ]
     },
     "execution_count": 6,
     "metadata": {},
     "output_type": "execute_result"
    }
   ],
   "source": [
    "# Write your code here\n",
    "def MAKES_TWENTY(a, b):\n",
    "    sum = 0\n",
    "    sum = a + b\n",
    "    if sum == 20 or (a==20 or b==20):\n",
    "        return True\n",
    "    else:\n",
    "        return False\n",
    "    \n",
    "x = int(input('Enter the number x = '))\n",
    "y = int(input('Enter the number y = '))\n",
    "MAKES_TWENTY(x, y)"
   ]
  },
  {
   "cell_type": "code",
   "execution_count": 7,
   "metadata": {},
   "outputs": [
    {
     "name": "stdout",
     "output_type": "stream",
     "text": [
      "Enter the number x = 12\n",
      "Enter the number y = 8\n"
     ]
    },
    {
     "data": {
      "text/plain": [
       "True"
      ]
     },
     "execution_count": 7,
     "metadata": {},
     "output_type": "execute_result"
    }
   ],
   "source": [
    "# Write your code here\n",
    "def MAKES_TWENTY(a, b):\n",
    "    sum = 0\n",
    "    sum = a + b\n",
    "    if sum == 20 or (a==20 or b==20):\n",
    "        return True\n",
    "    else:\n",
    "        return False\n",
    "    \n",
    "x = int(input('Enter the number x = '))\n",
    "y = int(input('Enter the number y = '))\n",
    "MAKES_TWENTY(x, y)"
   ]
  },
  {
   "cell_type": "code",
   "execution_count": 8,
   "metadata": {},
   "outputs": [
    {
     "name": "stdout",
     "output_type": "stream",
     "text": [
      "Enter the number x = 2\n",
      "Enter the number y = 3\n"
     ]
    },
    {
     "data": {
      "text/plain": [
       "False"
      ]
     },
     "execution_count": 8,
     "metadata": {},
     "output_type": "execute_result"
    }
   ],
   "source": [
    "# Write your code here\n",
    "def MAKES_TWENTY(a, b):\n",
    "    sum = 0\n",
    "    sum = a + b\n",
    "    if sum == 20 or (a==20 or b==20):\n",
    "        return True\n",
    "    else:\n",
    "        return False\n",
    "    \n",
    "x = int(input('Enter the number x = '))\n",
    "y = int(input('Enter the number y = '))\n",
    "MAKES_TWENTY(x, y)"
   ]
  },
  {
   "cell_type": "markdown",
   "metadata": {},
   "source": [
    "# LEVEL 1 PROBLEMS\n",
    "#### OLD MACDONALD: Write a function that capitalizes the first and fourth letters of a name\n",
    "    old_macdonald('macdonald') --> MacDonald\n",
    "\n",
    "Note: 'macdonald'.capitalize() returns 'Macdonald'"
   ]
  },
  {
   "cell_type": "code",
   "execution_count": 12,
   "metadata": {},
   "outputs": [],
   "source": [
    "# Write your code here\n",
    "def old_macdonald(str):\n",
    "    a = str[0:3].capitalize()+str[3:9].capitalize()\n",
    "    return a"
   ]
  },
  {
   "cell_type": "code",
   "execution_count": 13,
   "metadata": {},
   "outputs": [
    {
     "data": {
      "text/plain": [
       "'MacDonald'"
      ]
     },
     "execution_count": 13,
     "metadata": {},
     "output_type": "execute_result"
    }
   ],
   "source": [
    "# Check\n",
    "old_macdonald('macdonald')"
   ]
  },
  {
   "cell_type": "markdown",
   "metadata": {},
   "source": [
    "#### MASTER YODA: Given a sentence, return a sentence with the words reversed\n",
    "master_yoda('I am home') --> 'home am I'\n",
    "\n",
    "master_yoda('We are ready') --> 'ready are We'\n",
    "\n",
    "Note: The .join() method may be useful here. The .join() method allows you to join together strings in a list with some connector string. For example, some uses of the .join() method:\n",
    "\n",
    "    >>> \"--\".join(['a','b','c'])\n",
    "    >>> 'a--b--c'\n",
    "\n",
    "This means if you had a list of words you wanted to turn back into a sentence, you could just join them with a single space string:\n",
    "\n",
    "    >>> \" \".join(['Hello','world'])\n",
    "    >>> \"Hello world\""
   ]
  },
  {
   "cell_type": "code",
   "execution_count": 14,
   "metadata": {},
   "outputs": [],
   "source": [
    "# Write your code here\n",
    "def master_yoda(str):\n",
    "    a = str.split()\n",
    "    b = reversed(a)\n",
    "    rev = \" \".join(b)\n",
    "    return rev"
   ]
  },
  {
   "cell_type": "code",
   "execution_count": 15,
   "metadata": {},
   "outputs": [
    {
     "data": {
      "text/plain": [
       "'home am I'"
      ]
     },
     "execution_count": 15,
     "metadata": {},
     "output_type": "execute_result"
    }
   ],
   "source": [
    "# Check\n",
    "master_yoda('I am home')"
   ]
  },
  {
   "cell_type": "code",
   "execution_count": 16,
   "metadata": {},
   "outputs": [
    {
     "data": {
      "text/plain": [
       "'ready are We'"
      ]
     },
     "execution_count": 16,
     "metadata": {},
     "output_type": "execute_result"
    }
   ],
   "source": [
    "# Check\n",
    "master_yoda('We are ready')"
   ]
  },
  {
   "cell_type": "markdown",
   "metadata": {},
   "source": [
    "#### ALMOST THERE: Given an integer n, return True if n is within 10 of either 100 or 200\n",
    "almost_there(90) --> True\n",
    "\n",
    "almost_there(104) --> True\n",
    "\n",
    "almost_there(150) --> False\n",
    "\n",
    "almost_there(209) --> True\n",
    "\n",
    "NOTE: abs(num) returns the absolute value of a number"
   ]
  },
  {
   "cell_type": "code",
   "execution_count": 17,
   "metadata": {},
   "outputs": [],
   "source": [
    "# Write your code here\n",
    "def almost_there(n):\n",
    "    if n >= 90 and n <= 110 or n >= 190 and n <= 210:\n",
    "        return True\n",
    "    else:\n",
    "        return False"
   ]
  },
  {
   "cell_type": "code",
   "execution_count": 21,
   "metadata": {},
   "outputs": [
    {
     "data": {
      "text/plain": [
       "True"
      ]
     },
     "execution_count": 21,
     "metadata": {},
     "output_type": "execute_result"
    }
   ],
   "source": [
    "almost_there(90)"
   ]
  },
  {
   "cell_type": "code",
   "execution_count": 18,
   "metadata": {},
   "outputs": [
    {
     "data": {
      "text/plain": [
       "True"
      ]
     },
     "execution_count": 18,
     "metadata": {},
     "output_type": "execute_result"
    }
   ],
   "source": [
    "# Check\n",
    "almost_there(104)"
   ]
  },
  {
   "cell_type": "code",
   "execution_count": 19,
   "metadata": {},
   "outputs": [
    {
     "data": {
      "text/plain": [
       "False"
      ]
     },
     "execution_count": 19,
     "metadata": {},
     "output_type": "execute_result"
    }
   ],
   "source": [
    "# Check\n",
    "almost_there(150)"
   ]
  },
  {
   "cell_type": "code",
   "execution_count": 20,
   "metadata": {},
   "outputs": [
    {
     "data": {
      "text/plain": [
       "True"
      ]
     },
     "execution_count": 20,
     "metadata": {},
     "output_type": "execute_result"
    }
   ],
   "source": [
    "# Check\n",
    "almost_there(209)"
   ]
  },
  {
   "cell_type": "markdown",
   "metadata": {},
   "source": [
    "# LEVEL 2 PROBLEMS\n",
    "#### FIND 33:\n",
    "Given a list of ints, return True if the array contains a 3 next to a 3 somewhere.\n",
    "\n",
    "has_33([1, 3, 3]) → True\n",
    "\n",
    "has_33([1, 3, 1, 3]) → False\n",
    "\n",
    "has_33([3, 1, 3]) → False"
   ]
  },
  {
   "cell_type": "code",
   "execution_count": 3,
   "metadata": {},
   "outputs": [],
   "source": [
    "# Write your code here\n",
    "def has_33(L):\n",
    "    for i in range(0, len(L)):\n",
    "        if L[i]==3:\n",
    "            if L[i] == 3 and L[i+1]==3:\n",
    "                return True\n",
    "            else:\n",
    "                return False\n",
    "        else:\n",
    "            continue"
   ]
  },
  {
   "cell_type": "code",
   "execution_count": 4,
   "metadata": {},
   "outputs": [
    {
     "data": {
      "text/plain": [
       "True"
      ]
     },
     "execution_count": 4,
     "metadata": {},
     "output_type": "execute_result"
    }
   ],
   "source": [
    "# Check\n",
    "has_33([1, 3, 3])"
   ]
  },
  {
   "cell_type": "code",
   "execution_count": 6,
   "metadata": {},
   "outputs": [
    {
     "data": {
      "text/plain": [
       "False"
      ]
     },
     "execution_count": 6,
     "metadata": {},
     "output_type": "execute_result"
    }
   ],
   "source": [
    "# Check\n",
    "has_33([1, 3, 1, 3, 3])"
   ]
  },
  {
   "cell_type": "code",
   "execution_count": 11,
   "metadata": {},
   "outputs": [
    {
     "data": {
      "text/plain": [
       "False"
      ]
     },
     "execution_count": 11,
     "metadata": {},
     "output_type": "execute_result"
    }
   ],
   "source": [
    "# Check\n",
    "has_33([3, 1, 3])"
   ]
  },
  {
   "cell_type": "markdown",
   "metadata": {},
   "source": [
    "#### PAPER DOLL: Given a string, return a string where for every character in the original there are three characters\n",
    "paper_doll('Hello') --> 'HHHeeellllllooo'\n",
    "\n",
    "paper_doll('Mississippi') --> 'MMMiiissssssiiippppppiii'"
   ]
  },
  {
   "cell_type": "code",
   "execution_count": 9,
   "metadata": {},
   "outputs": [
    {
     "name": "stdout",
     "output_type": "stream",
     "text": [
      "Enter string Hello\n",
      "HHHeeellllllooo"
     ]
    }
   ],
   "source": [
    "# Write your code here\n",
    "def PAPER_DOLL(str):\n",
    "    for letter in str:\n",
    "        a= letter*3\n",
    "        print(a,end='')\n",
    "\n",
    "st = input('Enter string ')\n",
    "PAPER_DOLL(st)"
   ]
  },
  {
   "cell_type": "code",
   "execution_count": 54,
   "metadata": {},
   "outputs": [
    {
     "data": {
      "text/plain": [
       "'HHHeeellllllooo'"
      ]
     },
     "execution_count": 54,
     "metadata": {},
     "output_type": "execute_result"
    }
   ],
   "source": [
    "# Check\n",
    "paper_doll('Hello')"
   ]
  },
  {
   "cell_type": "code",
   "execution_count": 10,
   "metadata": {},
   "outputs": [
    {
     "name": "stdout",
     "output_type": "stream",
     "text": [
      "Enter string Mississippi\n",
      "MMMiiissssssiiissssssiiippppppiii"
     ]
    }
   ],
   "source": [
    "def PAPER_DOLL(str):\n",
    "    for letter in str:\n",
    "        a= letter*3\n",
    "        print(a,end='')\n",
    "\n",
    "st = input('Enter string ')\n",
    "PAPER_DOLL(st)"
   ]
  },
  {
   "cell_type": "code",
   "execution_count": 55,
   "metadata": {},
   "outputs": [
    {
     "data": {
      "text/plain": [
       "'MMMiiissssssiiissssssiiippppppiii'"
      ]
     },
     "execution_count": 55,
     "metadata": {},
     "output_type": "execute_result"
    }
   ],
   "source": [
    "# Check\n",
    "paper_doll('Mississippi')"
   ]
  },
  {
   "cell_type": "markdown",
   "metadata": {},
   "source": [
    "#### BLACKJACK: Given three integers between 1 and 11, if their sum is less than or equal to 21, return their sum. If their sum exceeds 21 and there's an eleven, reduce the total sum by 10. Finally, if the sum (even after adjustment) exceeds 21, return 'BUST'\n",
    "blackjack(5,6,7) --> 18\n",
    "\n",
    "blackjack(9,9,9) --> 'BUST'\n",
    "\n",
    "blackjack(9,9,11) --> 19"
   ]
  },
  {
   "cell_type": "code",
   "execution_count": 2,
   "metadata": {},
   "outputs": [
    {
     "name": "stdout",
     "output_type": "stream",
     "text": [
      "Enter the number x = 5\n",
      "Enter the number y = 6\n",
      "Enter the number z = 7\n"
     ]
    },
    {
     "data": {
      "text/plain": [
       "18"
      ]
     },
     "execution_count": 2,
     "metadata": {},
     "output_type": "execute_result"
    }
   ],
   "source": [
    "# Write your code here\n",
    "# Write your code here\n",
    "def blackjack(a, b, c):\n",
    "    g = 0\n",
    "    sum = 0\n",
    "    sum = a + b + c\n",
    "    if sum <= 21:\n",
    "        return sum\n",
    "    if sum > 21 and (a==11 or b==11 or c==11):\n",
    "        g = sum - 10\n",
    "        return g\n",
    "    else:\n",
    "        g > 21\n",
    "        print('BUST')\n",
    "    \n",
    "    \n",
    "x = int(input('Enter the number x = '))\n",
    "y = int(input('Enter the number y = '))\n",
    "z = int(input('Enter the number z = '))\n",
    "blackjack(x, y, z)"
   ]
  },
  {
   "cell_type": "code",
   "execution_count": 3,
   "metadata": {},
   "outputs": [
    {
     "name": "stdout",
     "output_type": "stream",
     "text": [
      "Enter the number x = 9\n",
      "Enter the number y = 9\n",
      "Enter the number z = 9\n",
      "BUST\n"
     ]
    }
   ],
   "source": [
    "# Write your code here\n",
    "def blackjack(a, b, c):\n",
    "    g = 0\n",
    "    sum = 0\n",
    "    sum = a + b + c\n",
    "    if sum <= 21:\n",
    "        return sum\n",
    "    if sum > 21 and (a==11 or b==11 or c==11):\n",
    "        g = sum - 10\n",
    "        return g\n",
    "    else:\n",
    "        g > 21\n",
    "        print('BUST')\n",
    "    \n",
    "    \n",
    "x = int(input('Enter the number x = '))\n",
    "y = int(input('Enter the number y = '))\n",
    "z = int(input('Enter the number z = '))\n",
    "blackjack(x, y, z)"
   ]
  },
  {
   "cell_type": "code",
   "execution_count": 4,
   "metadata": {},
   "outputs": [
    {
     "name": "stdout",
     "output_type": "stream",
     "text": [
      "Enter the number x = 9\n",
      "Enter the number y = 9\n",
      "Enter the number z = 11\n"
     ]
    },
    {
     "data": {
      "text/plain": [
       "19"
      ]
     },
     "execution_count": 4,
     "metadata": {},
     "output_type": "execute_result"
    }
   ],
   "source": [
    "# Write your code here\n",
    "def blackjack(a, b, c):\n",
    "    g = 0\n",
    "    sum = 0\n",
    "    sum = a + b + c\n",
    "    if sum <= 21:\n",
    "        return sum\n",
    "    if sum > 21 and (a==11 or b==11 or c==11):\n",
    "        g = sum - 10\n",
    "        return g\n",
    "    else:\n",
    "        g > 21\n",
    "        print('BUST')\n",
    "    \n",
    "    \n",
    "x = int(input('Enter the number x = '))\n",
    "y = int(input('Enter the number y = '))\n",
    "z = int(input('Enter the number z = '))\n",
    "blackjack(x, y, z)"
   ]
  },
  {
   "cell_type": "code",
   "execution_count": 59,
   "metadata": {},
   "outputs": [
    {
     "data": {
      "text/plain": [
       "18"
      ]
     },
     "execution_count": 59,
     "metadata": {},
     "output_type": "execute_result"
    }
   ],
   "source": [
    "# Check\n",
    "blackjack(5,6,7)"
   ]
  },
  {
   "cell_type": "code",
   "execution_count": 60,
   "metadata": {},
   "outputs": [
    {
     "data": {
      "text/plain": [
       "'BUST'"
      ]
     },
     "execution_count": 60,
     "metadata": {},
     "output_type": "execute_result"
    }
   ],
   "source": [
    "# Check\n",
    "blackjack(9,9,9)"
   ]
  },
  {
   "cell_type": "code",
   "execution_count": 61,
   "metadata": {},
   "outputs": [
    {
     "data": {
      "text/plain": [
       "19"
      ]
     },
     "execution_count": 61,
     "metadata": {},
     "output_type": "execute_result"
    }
   ],
   "source": [
    "# Check\n",
    "blackjack(9,9,11)"
   ]
  },
  {
   "cell_type": "markdown",
   "metadata": {},
   "source": [
    "#### SUMMER OF '69: Return the sum of the numbers in the array, except ignore sections of numbers starting with a 6 and extending to the next 9 (every 6 will be followed by at least one 9). Return 0 for no numbers.\n",
    "summer_69([1, 3, 5]) --> 9\n",
    "\n",
    "summer_69([4, 5, 6, 7, 8, 9]) --> 9\n",
    "\n",
    "summer_69([2, 1, 6, 9, 11]) --> 14"
   ]
  },
  {
   "cell_type": "code",
   "execution_count": 1,
   "metadata": {},
   "outputs": [
    {
     "data": {
      "text/plain": [
       "9"
      ]
     },
     "execution_count": 1,
     "metadata": {},
     "output_type": "execute_result"
    }
   ],
   "source": [
    "L = [4, 5, 6, 7, 8, 9]\n",
    "sum(L)-sum(L[L.index(6):L.index(9)+1])"
   ]
  },
  {
   "cell_type": "code",
   "execution_count": 55,
   "metadata": {},
   "outputs": [
    {
     "data": {
      "text/plain": [
       "9"
      ]
     },
     "execution_count": 55,
     "metadata": {},
     "output_type": "execute_result"
    }
   ],
   "source": [
    "# Write your code here\n",
    "def summer_69(L):\n",
    "    sum = 0\n",
    "    a = True\n",
    "    for i in range(0, len(L)):\n",
    "        if L[i] == 6:\n",
    "            a = False\n",
    "#             for j in range(i, len(L)):\n",
    "            if L[i] == 9:\n",
    "                a = True\n",
    "                break\n",
    "            else:\n",
    "                continue\n",
    "\n",
    "        if a:      \n",
    "            sum = sum + L[i] \n",
    "            \n",
    "    return sum\n",
    "        \n",
    "    \n",
    "summer_69([4, 5, 6, 7, 8, 9])"
   ]
  },
  {
   "cell_type": "code",
   "execution_count": 56,
   "metadata": {},
   "outputs": [
    {
     "data": {
      "text/plain": [
       "9"
      ]
     },
     "execution_count": 56,
     "metadata": {},
     "output_type": "execute_result"
    }
   ],
   "source": [
    "# Check\n",
    "summer_69([1, 3, 5])"
   ]
  },
  {
   "cell_type": "code",
   "execution_count": 57,
   "metadata": {},
   "outputs": [
    {
     "data": {
      "text/plain": [
       "9"
      ]
     },
     "execution_count": 57,
     "metadata": {},
     "output_type": "execute_result"
    }
   ],
   "source": [
    "# Check\n",
    "summer_69([4, 5, 6, 7, 8, 9])"
   ]
  },
  {
   "cell_type": "code",
   "execution_count": 58,
   "metadata": {},
   "outputs": [
    {
     "data": {
      "text/plain": [
       "3"
      ]
     },
     "execution_count": 58,
     "metadata": {},
     "output_type": "execute_result"
    }
   ],
   "source": [
    "# Check\n",
    "summer_69([2, 1, 6, 9, 11])"
   ]
  },
  {
   "cell_type": "markdown",
   "metadata": {},
   "source": [
    "# CHALLENGING PROBLEMS\n",
    "#### SPY GAME: Write a function that takes in a list of integers and returns True if it contains 007 in order\n",
    "spy_game([1,2,4,0,0,7,5]) --> True\n",
    "\n",
    "spy_game([1,0,2,4,0,5,7]) --> True\n",
    "\n",
    "spy_game([1,7,2,0,4,5,0]) --> False"
   ]
  },
  {
   "cell_type": "code",
   "execution_count": 1,
   "metadata": {},
   "outputs": [
    {
     "data": {
      "text/plain": [
       "True"
      ]
     },
     "execution_count": 1,
     "metadata": {},
     "output_type": "execute_result"
    }
   ],
   "source": [
    "# Write your code here\n",
    "def spy_game(L):\n",
    "  \n",
    "    for i in range(0, len(L)):\n",
    "        if L[i]==0:\n",
    "            for j in range(i+1, len(L)):\n",
    "                if L[j]==0:\n",
    "                    for k in range(i+1, len(L)):\n",
    "                        if L[k]==7:\n",
    "                            return True\n",
    "    else:\n",
    "        return False\n",
    "\n",
    "        \n",
    "spy_game([1,2,4,0,0,7,5])"
   ]
  },
  {
   "cell_type": "code",
   "execution_count": 2,
   "metadata": {},
   "outputs": [
    {
     "data": {
      "text/plain": [
       "True"
      ]
     },
     "execution_count": 2,
     "metadata": {},
     "output_type": "execute_result"
    }
   ],
   "source": [
    "# Check\n",
    "spy_game([1,0,2,4,0,5,7])"
   ]
  },
  {
   "cell_type": "code",
   "execution_count": 3,
   "metadata": {},
   "outputs": [
    {
     "data": {
      "text/plain": [
       "False"
      ]
     },
     "execution_count": 3,
     "metadata": {},
     "output_type": "execute_result"
    }
   ],
   "source": [
    "# Check\n",
    "spy_game([1,7,2,0,4,5,0])"
   ]
  },
  {
   "cell_type": "markdown",
   "metadata": {},
   "source": [
    "#### COUNT PRIMES: Write a function that returns the number of prime numbers that exist up to and including a given number\n",
    "count_primes(100) --> 25\n",
    "\n",
    "By convention, 0 and 1 are not prime."
   ]
  },
  {
   "cell_type": "code",
   "execution_count": 4,
   "metadata": {},
   "outputs": [
    {
     "data": {
      "text/plain": [
       "25"
      ]
     },
     "execution_count": 4,
     "metadata": {},
     "output_type": "execute_result"
    }
   ],
   "source": [
    "# Write your code here\n",
    "def count_primes(n):\n",
    "    count = 0\n",
    "    for num in range(2, n+1):\n",
    "        for i in range(2, num):\n",
    "            if num % i == 0:\n",
    "                break\n",
    "        else:\n",
    "            count +=1 \n",
    "    return count\n",
    "\n",
    "\n",
    "count_primes(100)"
   ]
  },
  {
   "cell_type": "code",
   "execution_count": 5,
   "metadata": {},
   "outputs": [
    {
     "data": {
      "text/plain": [
       "25"
      ]
     },
     "execution_count": 5,
     "metadata": {},
     "output_type": "execute_result"
    }
   ],
   "source": [
    "# Check\n",
    "count_primes(100)"
   ]
  },
  {
   "cell_type": "markdown",
   "metadata": {},
   "source": [
    "## Just for fun:\n",
    "#### PRINT BIG: Write a function that takes in a single letter, and returns a 5x5 representation of that letter\n",
    "print_big('a')\n",
    "\n",
    "out:  \n",
    "       *  \n",
    "      * *\n",
    "     *****\n",
    "     *   *\n",
    "     *   *\n",
    "HINT: Consider making a dictionary of possible patterns, and mapping the alphabet to specific 5-line combinations of patterns."
   ]
  },
  {
   "cell_type": "code",
   "execution_count": 35,
   "metadata": {},
   "outputs": [],
   "source": [
    "def print_big(letter):\n",
    "    pass\n",
    "    dicts = {'a': \"  *  \\n * * \\n*****\\n*   *\\n*   *\", 'b': \"**** \\n*   *\\n****\\n*   *\\n****\",\n",
    "             'c': \" ****\\n*\\n*\\n*\\n ****\", 'd': \"**** \\n*   *\\n*   *\\n*   *\\n**** \", \n",
    "             'e': \"*****\\n*\\n*****\\n*\\n*****\", 'f': \"*****\\n*\\n****\\n*\\n*\"}\n",
    "    if letter in dicts:\n",
    "        return print(dicts.get(letter))"
   ]
  },
  {
   "cell_type": "code",
   "execution_count": 36,
   "metadata": {},
   "outputs": [
    {
     "name": "stdout",
     "output_type": "stream",
     "text": [
      "  *  \n",
      " * * \n",
      "*****\n",
      "*   *\n",
      "*   *\n"
     ]
    }
   ],
   "source": [
    "print_big('a')"
   ]
  },
  {
   "cell_type": "code",
   "execution_count": 37,
   "metadata": {},
   "outputs": [
    {
     "name": "stdout",
     "output_type": "stream",
     "text": [
      "**** \n",
      "*   *\n",
      "****\n",
      "*   *\n",
      "****\n"
     ]
    }
   ],
   "source": [
    "print_big('b')"
   ]
  },
  {
   "cell_type": "code",
   "execution_count": 38,
   "metadata": {},
   "outputs": [
    {
     "name": "stdout",
     "output_type": "stream",
     "text": [
      " ****\n",
      "*\n",
      "*\n",
      "*\n",
      " ****\n"
     ]
    }
   ],
   "source": [
    "print_big('c')"
   ]
  },
  {
   "cell_type": "code",
   "execution_count": 39,
   "metadata": {},
   "outputs": [
    {
     "name": "stdout",
     "output_type": "stream",
     "text": [
      "**** \n",
      "*   *\n",
      "*   *\n",
      "*   *\n",
      "**** \n"
     ]
    }
   ],
   "source": [
    "print_big('d')"
   ]
  },
  {
   "cell_type": "code",
   "execution_count": 40,
   "metadata": {},
   "outputs": [
    {
     "name": "stdout",
     "output_type": "stream",
     "text": [
      "*****\n",
      "*\n",
      "*****\n",
      "*\n",
      "*****\n"
     ]
    }
   ],
   "source": [
    "print_big('e')"
   ]
  },
  {
   "cell_type": "code",
   "execution_count": 41,
   "metadata": {},
   "outputs": [
    {
     "name": "stdout",
     "output_type": "stream",
     "text": [
      "*****\n",
      "*\n",
      "****\n",
      "*\n",
      "*\n"
     ]
    }
   ],
   "source": [
    "print_big('f')"
   ]
  },
  {
   "cell_type": "code",
   "execution_count": null,
   "metadata": {},
   "outputs": [],
   "source": []
  }
 ],
 "metadata": {
  "kernelspec": {
   "display_name": "Python 3",
   "language": "python",
   "name": "python3"
  },
  "language_info": {
   "codemirror_mode": {
    "name": "ipython",
    "version": 3
   },
   "file_extension": ".py",
   "mimetype": "text/x-python",
   "name": "python",
   "nbconvert_exporter": "python",
   "pygments_lexer": "ipython3",
   "version": "3.7.4"
  }
 },
 "nbformat": 4,
 "nbformat_minor": 2
}
