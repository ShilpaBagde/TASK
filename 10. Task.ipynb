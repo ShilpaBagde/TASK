{
 "cells": [
  {
   "cell_type": "markdown",
   "metadata": {},
   "source": [
    "1. Write a Python function to find the three elements that sum to zero from a set of n real numbers.\n",
    "\n",
    "Input array : [-25, -10, -7, -3, 2, 4, 8, 10]\n",
    "\n",
    "Output : [[-10, 2, 8], [-7, -3, 10]]"
   ]
  },
  {
   "cell_type": "code",
   "execution_count": 4,
   "metadata": {},
   "outputs": [
    {
     "name": "stdout",
     "output_type": "stream",
     "text": [
      "[-10, 2, 8][-7, -3, 10]"
     ]
    }
   ],
   "source": [
    "array = [-25, -10, -7, -3, 2, 4, 8, 10]\n",
    "n = len(array)\n",
    "for i in range(0, n-2):\n",
    "    for j in range (i+1, n-1):\n",
    "        for k in range(j+1, n):\n",
    "            if (array[i] + array[j] + array[k] == 0):\n",
    "                print([array[i], array[j], array[k]], end=\"\")"
   ]
  },
  {
   "cell_type": "markdown",
   "metadata": {},
   "source": [
    "2. Write a Python function to reverse a string word by word.\n",
    "\n",
    "Input string : 'hello .py'\n",
    "\n",
    "Expected Output : '.py hello' "
   ]
  },
  {
   "cell_type": "code",
   "execution_count": 27,
   "metadata": {},
   "outputs": [
    {
     "name": "stdout",
     "output_type": "stream",
     "text": [
      "Enter sting:  'hello .py'\n",
      ".py' 'hello\n"
     ]
    }
   ],
   "source": [
    "# Write your code here.\n",
    "str = input(\"Enter sting: \")\n",
    "a = str.split()\n",
    "b=reversed(a)\n",
    "rev = \" \".join(b)\n",
    "print(rev)"
   ]
  },
  {
   "cell_type": "markdown",
   "metadata": {},
   "source": [
    "3. Write a Python class named Rectangle constructed by a length and width and a method which will compute the area of a rectangle"
   ]
  },
  {
   "cell_type": "code",
   "execution_count": 9,
   "metadata": {},
   "outputs": [],
   "source": [
    "# Write your code here.\n",
    "class Rectangle:\n",
    "    def __init__(self, length, width):\n",
    "        self.length = length\n",
    "        self.width = width\n",
    "        \n",
    "    def Area(self):\n",
    "        Area = self.width * self.length\n",
    "        return Area"
   ]
  },
  {
   "cell_type": "code",
   "execution_count": 10,
   "metadata": {},
   "outputs": [],
   "source": [
    "R = Rectangle(6,8)"
   ]
  },
  {
   "cell_type": "code",
   "execution_count": 11,
   "metadata": {},
   "outputs": [
    {
     "data": {
      "text/plain": [
       "48"
      ]
     },
     "execution_count": 11,
     "metadata": {},
     "output_type": "execute_result"
    }
   ],
   "source": [
    "R.Area()"
   ]
  },
  {
   "cell_type": "markdown",
   "metadata": {},
   "source": [
    "4. Write a Python class named Circle constructed by a radius and two methods which will compute the area and the perimeter of a circle."
   ]
  },
  {
   "cell_type": "code",
   "execution_count": 12,
   "metadata": {},
   "outputs": [],
   "source": [
    "# Write your code here.\n",
    "class Circle:\n",
    "    def __init__(self, radius):\n",
    "        self.radius = radius\n",
    "        \n",
    "    def area(self):\n",
    "        Area = 3.14 * (self.radius ** 2)\n",
    "        return Area\n",
    "    \n",
    "    def perimeter(self):\n",
    "        Perimeter = 2 * 3.14 * self.radius\n",
    "        return Perimeter"
   ]
  },
  {
   "cell_type": "code",
   "execution_count": 13,
   "metadata": {},
   "outputs": [],
   "source": [
    "C = Circle(5)"
   ]
  },
  {
   "cell_type": "code",
   "execution_count": 15,
   "metadata": {},
   "outputs": [
    {
     "data": {
      "text/plain": [
       "78.5"
      ]
     },
     "execution_count": 15,
     "metadata": {},
     "output_type": "execute_result"
    }
   ],
   "source": [
    "C.area()"
   ]
  },
  {
   "cell_type": "code",
   "execution_count": 16,
   "metadata": {},
   "outputs": [
    {
     "data": {
      "text/plain": [
       "31.400000000000002"
      ]
     },
     "execution_count": 16,
     "metadata": {},
     "output_type": "execute_result"
    }
   ],
   "source": [
    "C.perimeter()"
   ]
  },
  {
   "cell_type": "markdown",
   "metadata": {},
   "source": [
    "5.  Write a Python program to get next day of a given date.\n",
    "\n",
    "Expected Output:\n",
    "\n",
    "Input a year: 2016\n",
    "    \n",
    "Input a month [1-12]: 08 \n",
    "    \n",
    "Input a day [1-31]: 23    \n",
    "    \n",
    "The next date is [yyyy-mm-dd] 2016-8-24   \n",
    "\n"
   ]
  },
  {
   "cell_type": "code",
   "execution_count": 3,
   "metadata": {},
   "outputs": [
    {
     "name": "stdout",
     "output_type": "stream",
     "text": [
      "Enter a year: 2016\n",
      "Enter a month[1-12]: 08\n",
      "Enter a day[1-31]: 23\n",
      "The next date is [yyyy-mm-dd]: 2016-8-24\n"
     ]
    }
   ],
   "source": [
    "year = int(input(\"Enter a year: \"))\n",
    "if (year % 400 == 0):\n",
    "    leap_year = True\n",
    "elif (year % 100 == 0):\n",
    "    eap_year = False\n",
    "elif (year % 4 == 0):\n",
    "    leap_year = True\n",
    "else:\n",
    "    leap_year = False\n",
    "\n",
    "month = int(input(\"Enter a month[1-12]: \"))\n",
    "if month in (1, 3, 5, 7, 8, 10, 12):\n",
    "    month_len = 31\n",
    "elif month == 2:\n",
    "    if leap_year:\n",
    "        month_len = 29\n",
    "    else:\n",
    "        month_len = 28\n",
    "else:\n",
    "    month_len = 30\n",
    "    \n",
    "day = int(input(\"Enter a day[1-31]: \"))\n",
    "if day < month_len:\n",
    "    day += 1\n",
    "else:\n",
    "    day = 1\n",
    "    if month == 12:\n",
    "        month = 1\n",
    "        year += 1\n",
    "    else:\n",
    "        month += 1\n",
    "\n",
    "print(\"The next date is [yyyy-mm-dd]: %d-%d-%d\" % (year, month, day))"
   ]
  },
  {
   "cell_type": "markdown",
   "metadata": {},
   "source": [
    "6. Write a Python program to check the validity of password input by users. \n",
    "\n",
    "Validation :\n",
    "\n",
    "    At least 1 letter between [a-z] and 1 letter between [A-Z].\n",
    "    \n",
    "    At least 1 number between [0-9].\n",
    "    \n",
    "    At least 1 character from [$#@].\n",
    "                               \n",
    "    Minimum length 6 characters.\n",
    "                               \n",
    "    Maximum length 16 characters.\n",
    "            \n",
    "    HINT: import re\n"
   ]
  },
  {
   "cell_type": "code",
   "execution_count": 2,
   "metadata": {},
   "outputs": [
    {
     "name": "stdout",
     "output_type": "stream",
     "text": [
      "Enter your Password: Python@121-\n",
      "Valid Password\n"
     ]
    }
   ],
   "source": [
    "# Write your code here.\n",
    "import re\n",
    "PW = input(\"Enter your Password: \")\n",
    "x = True\n",
    "while 1:\n",
    "    if (len(PW)<6 or len(PW)>16):\n",
    "        break\n",
    "    elif not re.search(\"[a-z]\",PW):\n",
    "        break\n",
    "    elif not re.search(\"[A-Z]\",PW):\n",
    "        break\n",
    "    elif not re.search(\"[0-9]\",PW):\n",
    "        break\n",
    "    elif not re.search(\"[$#@]\",PW):\n",
    "        break\n",
    "    elif re.search(\"\\s\",PW):\n",
    "        break\n",
    "    else:\n",
    "        print(\"Valid Password\")\n",
    "        x = False\n",
    "        break\n",
    "if x:\n",
    "    print(\"Not a Valid Password\")"
   ]
  },
  {
   "cell_type": "markdown",
   "metadata": {},
   "source": [
    "#### 7.Write a Python program that accepts a string and calculate the number of digits and letters. \n",
    "#### Sample Data : Python 3.2\n",
    "#### Expected Output :\n",
    "#### Letters 6\n",
    "#### Digits 2"
   ]
  },
  {
   "cell_type": "code",
   "execution_count": 29,
   "metadata": {},
   "outputs": [
    {
     "name": "stdout",
     "output_type": "stream",
     "text": [
      "Enter the string : Python 3.2\n",
      "Letters 6 \n",
      "Digit 2\n"
     ]
    }
   ],
   "source": [
    "# Write your code here.\n",
    "str = input(\"Enter the string : \")\n",
    "letter = 0\n",
    "digit = 0\n",
    "for i in str:\n",
    "    if i.isalpha():\n",
    "        letter += 1\n",
    "    elif i.isdigit():\n",
    "        digit += 1\n",
    "    else:\n",
    "        pass\n",
    "    \n",
    "print(\"Letters\",letter, \"\\nDigit\",digit)"
   ]
  }
 ],
 "metadata": {
  "kernelspec": {
   "display_name": "Python 3",
   "language": "python",
   "name": "python3"
  },
  "language_info": {
   "codemirror_mode": {
    "name": "ipython",
    "version": 3
   },
   "file_extension": ".py",
   "mimetype": "text/x-python",
   "name": "python",
   "nbconvert_exporter": "python",
   "pygments_lexer": "ipython3",
   "version": "3.7.4"
  }
 },
 "nbformat": 4,
 "nbformat_minor": 2
}
